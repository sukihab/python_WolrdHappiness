{
 "cells": [
  {
   "cell_type": "markdown",
   "id": "cb1372c0",
   "metadata": {},
   "source": [
    "### This script contains the following:\n",
    "#### 1. Importing Libraries\n",
    "#### 2. Importing Data\n",
    "#### 3. Concating Data\n",
    "#### 4. Data Profiling & Cleaning\n",
    "#### 5. Basic Analyses\n",
    "      Frequency Distributions\n",
    "#### 6. Exporting Data"
   ]
  },
  {
   "cell_type": "markdown",
   "id": "1b90a990",
   "metadata": {},
   "source": [
    "### 1. Importing Libraries"
   ]
  },
  {
   "cell_type": "code",
   "execution_count": 1,
   "id": "6a9442d0",
   "metadata": {},
   "outputs": [],
   "source": [
    "# Import libraries\n",
    "import pandas as pd\n",
    "import numpy as np\n",
    "import os\n",
    "import matplotlib.pyplot as plt\n",
    "import seaborn as sns"
   ]
  },
  {
   "cell_type": "markdown",
   "id": "d7c8fe7d",
   "metadata": {},
   "source": [
    "### 2. Importing Data"
   ]
  },
  {
   "cell_type": "code",
   "execution_count": 2,
   "id": "4be27b38",
   "metadata": {},
   "outputs": [],
   "source": [
    "# Project folder path\n",
    "path=r'/Users/sukihabibe/Desktop/CareerFoundry/Portofolio_A6/World_Happiness_Report'"
   ]
  },
  {
   "cell_type": "code",
   "execution_count": 3,
   "id": "c5fecdbf",
   "metadata": {},
   "outputs": [],
   "source": [
    "# Importing datasets: 2019, 2018, 2017, 2016, 2015 (using path)\n",
    "df19=pd.read_csv(os.path.join(path, '02_Data', 'Original','archive','2019.csv'))\n",
    "df18=pd.read_csv(os.path.join(path, '02_Data', 'Original','archive','2018.csv'))\n",
    "df17=pd.read_csv(os.path.join(path, '02_Data', 'Original','archive','2017.csv'))\n",
    "df16=pd.read_csv(os.path.join(path, '02_Data', 'Original','archive','2016.csv'))\n",
    "df15=pd.read_csv(os.path.join(path, '02_Data', 'Original','archive','2015.csv'))"
   ]
  },
  {
   "cell_type": "code",
   "execution_count": 4,
   "id": "2d191443",
   "metadata": {},
   "outputs": [
    {
     "data": {
      "text/plain": [
       "(156, 9)"
      ]
     },
     "execution_count": 4,
     "metadata": {},
     "output_type": "execute_result"
    }
   ],
   "source": [
    "df19.shape"
   ]
  },
  {
   "cell_type": "code",
   "execution_count": 5,
   "id": "19069228",
   "metadata": {},
   "outputs": [
    {
     "data": {
      "text/plain": [
       "(156, 9)"
      ]
     },
     "execution_count": 5,
     "metadata": {},
     "output_type": "execute_result"
    }
   ],
   "source": [
    "df18.shape"
   ]
  },
  {
   "cell_type": "code",
   "execution_count": 6,
   "id": "48fda808",
   "metadata": {},
   "outputs": [
    {
     "data": {
      "text/plain": [
       "(155, 12)"
      ]
     },
     "execution_count": 6,
     "metadata": {},
     "output_type": "execute_result"
    }
   ],
   "source": [
    "df17.shape"
   ]
  },
  {
   "cell_type": "code",
   "execution_count": 7,
   "id": "25a571ff",
   "metadata": {},
   "outputs": [
    {
     "data": {
      "text/plain": [
       "(157, 13)"
      ]
     },
     "execution_count": 7,
     "metadata": {},
     "output_type": "execute_result"
    }
   ],
   "source": [
    "df16.shape"
   ]
  },
  {
   "cell_type": "code",
   "execution_count": 8,
   "id": "744be6de",
   "metadata": {},
   "outputs": [
    {
     "data": {
      "text/plain": [
       "(158, 12)"
      ]
     },
     "execution_count": 8,
     "metadata": {},
     "output_type": "execute_result"
    }
   ],
   "source": [
    "df15.shape"
   ]
  },
  {
   "cell_type": "code",
   "execution_count": 9,
   "id": "7d072e34",
   "metadata": {},
   "outputs": [
    {
     "name": "stdout",
     "output_type": "stream",
     "text": [
      "<class 'pandas.core.frame.DataFrame'>\n",
      "RangeIndex: 156 entries, 0 to 155\n",
      "Data columns (total 9 columns):\n",
      " #   Column                        Non-Null Count  Dtype  \n",
      "---  ------                        --------------  -----  \n",
      " 0   Overall rank                  156 non-null    int64  \n",
      " 1   Country or region             156 non-null    object \n",
      " 2   Score                         156 non-null    float64\n",
      " 3   GDP per capita                156 non-null    float64\n",
      " 4   Social support                156 non-null    float64\n",
      " 5   Healthy life expectancy       156 non-null    float64\n",
      " 6   Freedom to make life choices  156 non-null    float64\n",
      " 7   Generosity                    156 non-null    float64\n",
      " 8   Perceptions of corruption     156 non-null    float64\n",
      "dtypes: float64(7), int64(1), object(1)\n",
      "memory usage: 11.1+ KB\n"
     ]
    }
   ],
   "source": [
    "df19.info()"
   ]
  },
  {
   "cell_type": "code",
   "execution_count": 10,
   "id": "359613f1",
   "metadata": {},
   "outputs": [
    {
     "name": "stdout",
     "output_type": "stream",
     "text": [
      "<class 'pandas.core.frame.DataFrame'>\n",
      "RangeIndex: 156 entries, 0 to 155\n",
      "Data columns (total 9 columns):\n",
      " #   Column                        Non-Null Count  Dtype  \n",
      "---  ------                        --------------  -----  \n",
      " 0   Overall rank                  156 non-null    int64  \n",
      " 1   Country or region             156 non-null    object \n",
      " 2   Score                         156 non-null    float64\n",
      " 3   GDP per capita                156 non-null    float64\n",
      " 4   Social support                156 non-null    float64\n",
      " 5   Healthy life expectancy       156 non-null    float64\n",
      " 6   Freedom to make life choices  156 non-null    float64\n",
      " 7   Generosity                    156 non-null    float64\n",
      " 8   Perceptions of corruption     155 non-null    float64\n",
      "dtypes: float64(7), int64(1), object(1)\n",
      "memory usage: 11.1+ KB\n"
     ]
    }
   ],
   "source": [
    "df18.info()"
   ]
  },
  {
   "cell_type": "code",
   "execution_count": 11,
   "id": "806f7b91",
   "metadata": {},
   "outputs": [
    {
     "name": "stdout",
     "output_type": "stream",
     "text": [
      "<class 'pandas.core.frame.DataFrame'>\n",
      "RangeIndex: 155 entries, 0 to 154\n",
      "Data columns (total 12 columns):\n",
      " #   Column                         Non-Null Count  Dtype  \n",
      "---  ------                         --------------  -----  \n",
      " 0   Country                        155 non-null    object \n",
      " 1   Happiness.Rank                 155 non-null    int64  \n",
      " 2   Happiness.Score                155 non-null    float64\n",
      " 3   Whisker.high                   155 non-null    float64\n",
      " 4   Whisker.low                    155 non-null    float64\n",
      " 5   Economy..GDP.per.Capita.       155 non-null    float64\n",
      " 6   Family                         155 non-null    float64\n",
      " 7   Health..Life.Expectancy.       155 non-null    float64\n",
      " 8   Freedom                        155 non-null    float64\n",
      " 9   Generosity                     155 non-null    float64\n",
      " 10  Trust..Government.Corruption.  155 non-null    float64\n",
      " 11  Dystopia.Residual              155 non-null    float64\n",
      "dtypes: float64(10), int64(1), object(1)\n",
      "memory usage: 14.7+ KB\n"
     ]
    }
   ],
   "source": [
    "df17.info()"
   ]
  },
  {
   "cell_type": "code",
   "execution_count": 12,
   "id": "074ca2fe",
   "metadata": {},
   "outputs": [
    {
     "name": "stdout",
     "output_type": "stream",
     "text": [
      "<class 'pandas.core.frame.DataFrame'>\n",
      "RangeIndex: 157 entries, 0 to 156\n",
      "Data columns (total 13 columns):\n",
      " #   Column                         Non-Null Count  Dtype  \n",
      "---  ------                         --------------  -----  \n",
      " 0   Country                        157 non-null    object \n",
      " 1   Region                         157 non-null    object \n",
      " 2   Happiness Rank                 157 non-null    int64  \n",
      " 3   Happiness Score                157 non-null    float64\n",
      " 4   Lower Confidence Interval      157 non-null    float64\n",
      " 5   Upper Confidence Interval      157 non-null    float64\n",
      " 6   Economy (GDP per Capita)       157 non-null    float64\n",
      " 7   Family                         157 non-null    float64\n",
      " 8   Health (Life Expectancy)       157 non-null    float64\n",
      " 9   Freedom                        157 non-null    float64\n",
      " 10  Trust (Government Corruption)  157 non-null    float64\n",
      " 11  Generosity                     157 non-null    float64\n",
      " 12  Dystopia Residual              157 non-null    float64\n",
      "dtypes: float64(10), int64(1), object(2)\n",
      "memory usage: 16.1+ KB\n"
     ]
    }
   ],
   "source": [
    "df16.info()"
   ]
  },
  {
   "cell_type": "code",
   "execution_count": 13,
   "id": "b9aa3497",
   "metadata": {},
   "outputs": [
    {
     "name": "stdout",
     "output_type": "stream",
     "text": [
      "<class 'pandas.core.frame.DataFrame'>\n",
      "RangeIndex: 158 entries, 0 to 157\n",
      "Data columns (total 12 columns):\n",
      " #   Column                         Non-Null Count  Dtype  \n",
      "---  ------                         --------------  -----  \n",
      " 0   Country                        158 non-null    object \n",
      " 1   Region                         158 non-null    object \n",
      " 2   Happiness Rank                 158 non-null    int64  \n",
      " 3   Happiness Score                158 non-null    float64\n",
      " 4   Standard Error                 158 non-null    float64\n",
      " 5   Economy (GDP per Capita)       158 non-null    float64\n",
      " 6   Family                         158 non-null    float64\n",
      " 7   Health (Life Expectancy)       158 non-null    float64\n",
      " 8   Freedom                        158 non-null    float64\n",
      " 9   Trust (Government Corruption)  158 non-null    float64\n",
      " 10  Generosity                     158 non-null    float64\n",
      " 11  Dystopia Residual              158 non-null    float64\n",
      "dtypes: float64(9), int64(1), object(2)\n",
      "memory usage: 14.9+ KB\n"
     ]
    }
   ],
   "source": [
    "df15.info()"
   ]
  },
  {
   "cell_type": "markdown",
   "id": "2a616956",
   "metadata": {},
   "source": [
    "### 3. Concate datasets"
   ]
  },
  {
   "cell_type": "markdown",
   "id": "a1f1278e",
   "metadata": {},
   "source": [
    "#### Prepare Datasets for Concatenation"
   ]
  },
  {
   "cell_type": "markdown",
   "id": "2cad9a29",
   "metadata": {},
   "source": [
    "##### Dropping columns"
   ]
  },
  {
   "cell_type": "code",
   "execution_count": 14,
   "id": "61e56bec",
   "metadata": {},
   "outputs": [],
   "source": [
    "# dropping 3 columns in df17\n",
    "\n",
    "df17=df17.drop(columns = ['Whisker.high','Whisker.low','Dystopia.Residual'])"
   ]
  },
  {
   "cell_type": "code",
   "execution_count": 15,
   "id": "19d1e11e",
   "metadata": {},
   "outputs": [
    {
     "data": {
      "text/plain": [
       "(155, 9)"
      ]
     },
     "execution_count": 15,
     "metadata": {},
     "output_type": "execute_result"
    }
   ],
   "source": [
    "df17.shape"
   ]
  },
  {
   "cell_type": "code",
   "execution_count": 16,
   "id": "779822ec",
   "metadata": {},
   "outputs": [],
   "source": [
    "# dropping 3 columns in df16\n",
    "\n",
    "df16=df16.drop(columns = ['Region','Lower Confidence Interval','Upper Confidence Interval','Dystopia Residual'])"
   ]
  },
  {
   "cell_type": "code",
   "execution_count": 17,
   "id": "2a45404c",
   "metadata": {},
   "outputs": [
    {
     "data": {
      "text/plain": [
       "(157, 9)"
      ]
     },
     "execution_count": 17,
     "metadata": {},
     "output_type": "execute_result"
    }
   ],
   "source": [
    "df16.shape"
   ]
  },
  {
   "cell_type": "code",
   "execution_count": 18,
   "id": "67fa8422",
   "metadata": {},
   "outputs": [],
   "source": [
    "# dropping 2 columns in df15\n",
    "\n",
    "df15=df15.drop(columns = ['Region','Standard Error','Dystopia Residual'])"
   ]
  },
  {
   "cell_type": "code",
   "execution_count": 19,
   "id": "fe904a6c",
   "metadata": {},
   "outputs": [
    {
     "data": {
      "text/plain": [
       "(158, 9)"
      ]
     },
     "execution_count": 19,
     "metadata": {},
     "output_type": "execute_result"
    }
   ],
   "source": [
    "df15.shape"
   ]
  },
  {
   "cell_type": "markdown",
   "id": "1e469fa7",
   "metadata": {},
   "source": [
    "##### Adding columns"
   ]
  },
  {
   "cell_type": "code",
   "execution_count": 20,
   "id": "e70e9c12",
   "metadata": {},
   "outputs": [],
   "source": [
    "# Add new column \"Year\" with all rows set to same value\n",
    "\n",
    "df19['Year']='2019'"
   ]
  },
  {
   "cell_type": "code",
   "execution_count": 21,
   "id": "d769e6f0",
   "metadata": {},
   "outputs": [
    {
     "data": {
      "text/plain": [
       "(156, 10)"
      ]
     },
     "execution_count": 21,
     "metadata": {},
     "output_type": "execute_result"
    }
   ],
   "source": [
    "df19.shape"
   ]
  },
  {
   "cell_type": "code",
   "execution_count": 22,
   "id": "ba944d0d",
   "metadata": {},
   "outputs": [
    {
     "data": {
      "text/plain": [
       "(156, 10)"
      ]
     },
     "execution_count": 22,
     "metadata": {},
     "output_type": "execute_result"
    }
   ],
   "source": [
    "# Add new column \"Year\" with all rows set to same value\n",
    "\n",
    "df18['Year']='2018'\n",
    "df18.shape"
   ]
  },
  {
   "cell_type": "code",
   "execution_count": 23,
   "id": "de1f8259",
   "metadata": {},
   "outputs": [
    {
     "data": {
      "text/plain": [
       "(155, 10)"
      ]
     },
     "execution_count": 23,
     "metadata": {},
     "output_type": "execute_result"
    }
   ],
   "source": [
    "# Add new column \"Year\" with all rows set to same value\n",
    "\n",
    "df17['Year']='2017'\n",
    "df17.shape"
   ]
  },
  {
   "cell_type": "code",
   "execution_count": 24,
   "id": "2eabfefd",
   "metadata": {},
   "outputs": [
    {
     "data": {
      "text/plain": [
       "(157, 10)"
      ]
     },
     "execution_count": 24,
     "metadata": {},
     "output_type": "execute_result"
    }
   ],
   "source": [
    "# Add new column \"Year\" with all rows set to same value\n",
    "\n",
    "df16['Year']='2016'\n",
    "df16.shape"
   ]
  },
  {
   "cell_type": "code",
   "execution_count": 25,
   "id": "8e7c15af",
   "metadata": {},
   "outputs": [
    {
     "data": {
      "text/plain": [
       "(158, 10)"
      ]
     },
     "execution_count": 25,
     "metadata": {},
     "output_type": "execute_result"
    }
   ],
   "source": [
    "# Add new column \"Year\" with all rows set to same value\n",
    "\n",
    "df15['Year']='2015'\n",
    "df15.shape"
   ]
  },
  {
   "cell_type": "markdown",
   "id": "d4940978",
   "metadata": {},
   "source": [
    "##### Renaming variables"
   ]
  },
  {
   "cell_type": "code",
   "execution_count": 26,
   "id": "88d1d8ba",
   "metadata": {},
   "outputs": [
    {
     "data": {
      "text/plain": [
       "Index(['Overall rank', 'Country', 'Happiness score', 'GDP per capita',\n",
       "       'Social support', 'Healthy life expectancy',\n",
       "       'Freedom to make life choices', 'Generosity',\n",
       "       'Perceptions of corruption', 'Year'],\n",
       "      dtype='object')"
      ]
     },
     "execution_count": 26,
     "metadata": {},
     "output_type": "execute_result"
    }
   ],
   "source": [
    "df19.rename(columns = {'Country or region' : 'Country'}, inplace = True)\n",
    "df19.rename(columns = {'Score' : 'Happiness score'}, inplace = True)\n",
    "df19.columns"
   ]
  },
  {
   "cell_type": "code",
   "execution_count": 27,
   "id": "a595a108",
   "metadata": {},
   "outputs": [
    {
     "data": {
      "text/plain": [
       "Index(['Overall rank', 'Country', 'Happiness score', 'GDP per capita',\n",
       "       'Social support', 'Healthy life expectancy',\n",
       "       'Freedom to make life choices', 'Generosity',\n",
       "       'Perceptions of corruption', 'Year'],\n",
       "      dtype='object')"
      ]
     },
     "execution_count": 27,
     "metadata": {},
     "output_type": "execute_result"
    }
   ],
   "source": [
    "df18.rename(columns = {'Country or region' : 'Country'}, inplace = True)\n",
    "df18.rename(columns = {'Score' : 'Happiness score'}, inplace = True)\n",
    "df18.columns"
   ]
  },
  {
   "cell_type": "code",
   "execution_count": 28,
   "id": "b5ead174",
   "metadata": {},
   "outputs": [
    {
     "data": {
      "text/plain": [
       "Index(['Country', 'Overall rank', 'Happiness score', 'GDP per capita',\n",
       "       'Social support', 'Healthy life expectancy',\n",
       "       'Freedom to make life choices', 'Generosity',\n",
       "       'Perceptions of corruption', 'Year'],\n",
       "      dtype='object')"
      ]
     },
     "execution_count": 28,
     "metadata": {},
     "output_type": "execute_result"
    }
   ],
   "source": [
    "df17.rename(columns = {'Happiness.Rank' : 'Overall rank'}, inplace = True)\n",
    "df17.rename(columns = {'Happiness.Score' : 'Happiness score'}, inplace = True)\n",
    "df17.rename(columns = {'Economy..GDP.per.Capita.' : 'GDP per capita'}, inplace = True)\n",
    "df17.rename(columns = {'Family' : 'Social support'}, inplace = True)\n",
    "df17.rename(columns = {'Health..Life.Expectancy.' : 'Healthy life expectancy'}, inplace = True)\n",
    "df17.rename(columns = {'Freedom' : 'Freedom to make life choices'}, inplace = True)\n",
    "df17.rename(columns = {'Trust..Government.Corruption.' : 'Perceptions of corruption'}, inplace = True)\n",
    "df17.columns"
   ]
  },
  {
   "cell_type": "code",
   "execution_count": 29,
   "id": "5a9de36d",
   "metadata": {},
   "outputs": [
    {
     "data": {
      "text/plain": [
       "Index(['Country', 'Overall rank', 'Happiness score', 'GDP per capita',\n",
       "       'Social support', 'Healthy life expectancy',\n",
       "       'Freedom to make life choices', 'Perceptions of corruption',\n",
       "       'Generosity', 'Year'],\n",
       "      dtype='object')"
      ]
     },
     "execution_count": 29,
     "metadata": {},
     "output_type": "execute_result"
    }
   ],
   "source": [
    "df16.rename(columns = {'Happiness Rank' : 'Overall rank'}, inplace = True)\n",
    "df16.rename(columns = {'Happiness Score' : 'Happiness score'}, inplace = True)\n",
    "df16.rename(columns = {'Economy (GDP per Capita)' : 'GDP per capita'}, inplace = True)\n",
    "df16.rename(columns = {'Family' : 'Social support'}, inplace = True)\n",
    "df16.rename(columns = {'Health (Life Expectancy)' : 'Healthy life expectancy'}, inplace = True)\n",
    "df16.rename(columns = {'Freedom' : 'Freedom to make life choices'}, inplace = True)\n",
    "df16.rename(columns = {'Trust (Government Corruption)' : 'Perceptions of corruption'}, inplace = True)\n",
    "df16.columns"
   ]
  },
  {
   "cell_type": "code",
   "execution_count": 30,
   "id": "36106b9b",
   "metadata": {},
   "outputs": [
    {
     "data": {
      "text/plain": [
       "Index(['Country', 'Overall rank', 'Happiness score', 'GDP per capita',\n",
       "       'Social support', 'Healthy life expectancy',\n",
       "       'Freedom to make life choices', 'Perceptions of corruption',\n",
       "       'Generosity', 'Year'],\n",
       "      dtype='object')"
      ]
     },
     "execution_count": 30,
     "metadata": {},
     "output_type": "execute_result"
    }
   ],
   "source": [
    "df15.rename(columns = {'Happiness Rank' : 'Overall rank'}, inplace = True)\n",
    "df15.rename(columns = {'Happiness Score' : 'Happiness score'}, inplace = True)\n",
    "df15.rename(columns = {'Economy (GDP per Capita)' : 'GDP per capita'}, inplace = True)\n",
    "df15.rename(columns = {'Family' : 'Social support'}, inplace = True)\n",
    "df15.rename(columns = {'Health (Life Expectancy)' : 'Healthy life expectancy'}, inplace = True)\n",
    "df15.rename(columns = {'Freedom' : 'Freedom to make life choices'}, inplace = True)\n",
    "df15.rename(columns = {'Trust (Government Corruption)' : 'Perceptions of corruption'}, inplace = True)\n",
    "df15.columns"
   ]
  },
  {
   "cell_type": "markdown",
   "id": "e95f6cf5",
   "metadata": {},
   "source": [
    "##### Changing columns order"
   ]
  },
  {
   "cell_type": "code",
   "execution_count": 31,
   "id": "3393456b",
   "metadata": {},
   "outputs": [],
   "source": [
    "# Using DataFrame.reindex() to change columns order\n",
    "\n",
    "change_column = ['Year','Country','Overall rank','Happiness score','GDP per capita','Social support','Healthy life expectancy','Freedom to make life choices','Generosity','Perceptions of corruption']"
   ]
  },
  {
   "cell_type": "code",
   "execution_count": 32,
   "id": "b962f8f3",
   "metadata": {},
   "outputs": [
    {
     "data": {
      "text/plain": [
       "Index(['Year', 'Country', 'Overall rank', 'Happiness score', 'GDP per capita',\n",
       "       'Social support', 'Healthy life expectancy',\n",
       "       'Freedom to make life choices', 'Generosity',\n",
       "       'Perceptions of corruption'],\n",
       "      dtype='object')"
      ]
     },
     "execution_count": 32,
     "metadata": {},
     "output_type": "execute_result"
    }
   ],
   "source": [
    "df19 = df19.reindex(columns=change_column)\n",
    "df19.columns"
   ]
  },
  {
   "cell_type": "code",
   "execution_count": 33,
   "id": "d07c6ea6",
   "metadata": {},
   "outputs": [
    {
     "data": {
      "text/plain": [
       "Index(['Year', 'Country', 'Overall rank', 'Happiness score', 'GDP per capita',\n",
       "       'Social support', 'Healthy life expectancy',\n",
       "       'Freedom to make life choices', 'Generosity',\n",
       "       'Perceptions of corruption'],\n",
       "      dtype='object')"
      ]
     },
     "execution_count": 33,
     "metadata": {},
     "output_type": "execute_result"
    }
   ],
   "source": [
    "df18 = df18.reindex(columns=change_column)\n",
    "df18.columns"
   ]
  },
  {
   "cell_type": "code",
   "execution_count": 34,
   "id": "3f73bead",
   "metadata": {},
   "outputs": [
    {
     "data": {
      "text/plain": [
       "Index(['Year', 'Country', 'Overall rank', 'Happiness score', 'GDP per capita',\n",
       "       'Social support', 'Healthy life expectancy',\n",
       "       'Freedom to make life choices', 'Generosity',\n",
       "       'Perceptions of corruption'],\n",
       "      dtype='object')"
      ]
     },
     "execution_count": 34,
     "metadata": {},
     "output_type": "execute_result"
    }
   ],
   "source": [
    "df17 = df17.reindex(columns=change_column)\n",
    "df17.columns"
   ]
  },
  {
   "cell_type": "code",
   "execution_count": 35,
   "id": "62dab367",
   "metadata": {},
   "outputs": [
    {
     "data": {
      "text/plain": [
       "Index(['Year', 'Country', 'Overall rank', 'Happiness score', 'GDP per capita',\n",
       "       'Social support', 'Healthy life expectancy',\n",
       "       'Freedom to make life choices', 'Generosity',\n",
       "       'Perceptions of corruption'],\n",
       "      dtype='object')"
      ]
     },
     "execution_count": 35,
     "metadata": {},
     "output_type": "execute_result"
    }
   ],
   "source": [
    "df16 = df16.reindex(columns=change_column)\n",
    "df16.columns"
   ]
  },
  {
   "cell_type": "code",
   "execution_count": 36,
   "id": "a78ba98f",
   "metadata": {},
   "outputs": [
    {
     "data": {
      "text/plain": [
       "Index(['Year', 'Country', 'Overall rank', 'Happiness score', 'GDP per capita',\n",
       "       'Social support', 'Healthy life expectancy',\n",
       "       'Freedom to make life choices', 'Generosity',\n",
       "       'Perceptions of corruption'],\n",
       "      dtype='object')"
      ]
     },
     "execution_count": 36,
     "metadata": {},
     "output_type": "execute_result"
    }
   ],
   "source": [
    "df15 = df15.reindex(columns=change_column)\n",
    "df15.columns"
   ]
  },
  {
   "cell_type": "markdown",
   "id": "78e7672d",
   "metadata": {},
   "source": [
    "##### Concate Datasets"
   ]
  },
  {
   "cell_type": "code",
   "execution_count": 114,
   "id": "49443301",
   "metadata": {},
   "outputs": [
    {
     "data": {
      "text/plain": [
       "(782, 10)"
      ]
     },
     "execution_count": 114,
     "metadata": {},
     "output_type": "execute_result"
    }
   ],
   "source": [
    "frames = [df19, df18, df17, df16, df15]\n",
    "dfall = pd.concat(frames)\n",
    "dfall.shape"
   ]
  },
  {
   "cell_type": "code",
   "execution_count": 115,
   "id": "cab0a282",
   "metadata": {},
   "outputs": [
    {
     "name": "stdout",
     "output_type": "stream",
     "text": [
      "<class 'pandas.core.frame.DataFrame'>\n",
      "Int64Index: 782 entries, 0 to 157\n",
      "Data columns (total 10 columns):\n",
      " #   Column                        Non-Null Count  Dtype  \n",
      "---  ------                        --------------  -----  \n",
      " 0   Year                          782 non-null    object \n",
      " 1   Country                       782 non-null    object \n",
      " 2   Overall rank                  782 non-null    int64  \n",
      " 3   Happiness score               782 non-null    float64\n",
      " 4   GDP per capita                782 non-null    float64\n",
      " 5   Social support                782 non-null    float64\n",
      " 6   Healthy life expectancy       782 non-null    float64\n",
      " 7   Freedom to make life choices  782 non-null    float64\n",
      " 8   Generosity                    782 non-null    float64\n",
      " 9   Perceptions of corruption     781 non-null    float64\n",
      "dtypes: float64(7), int64(1), object(2)\n",
      "memory usage: 67.2+ KB\n"
     ]
    }
   ],
   "source": [
    "dfall.info()"
   ]
  },
  {
   "cell_type": "markdown",
   "id": "66a2ee18",
   "metadata": {},
   "source": [
    "### 4. Create new variable \"Regions\""
   ]
  },
  {
   "cell_type": "code",
   "execution_count": 118,
   "id": "a560c745",
   "metadata": {},
   "outputs": [],
   "source": [
    "# Import df 2015 and 2016 to make new df for Countries & Regions\n",
    "\n",
    "df16b=pd.read_csv(os.path.join(path, '02_Data', 'Original','archive','2016.csv'))\n",
    "df15b=pd.read_csv(os.path.join(path, '02_Data', 'Original','archive','2015.csv'))"
   ]
  },
  {
   "cell_type": "code",
   "execution_count": 119,
   "id": "c485ea30",
   "metadata": {},
   "outputs": [
    {
     "data": {
      "text/html": [
       "<div>\n",
       "<style scoped>\n",
       "    .dataframe tbody tr th:only-of-type {\n",
       "        vertical-align: middle;\n",
       "    }\n",
       "\n",
       "    .dataframe tbody tr th {\n",
       "        vertical-align: top;\n",
       "    }\n",
       "\n",
       "    .dataframe thead th {\n",
       "        text-align: right;\n",
       "    }\n",
       "</style>\n",
       "<table border=\"1\" class=\"dataframe\">\n",
       "  <thead>\n",
       "    <tr style=\"text-align: right;\">\n",
       "      <th></th>\n",
       "      <th>Country</th>\n",
       "      <th>Region</th>\n",
       "    </tr>\n",
       "  </thead>\n",
       "  <tbody>\n",
       "    <tr>\n",
       "      <th>0</th>\n",
       "      <td>Switzerland</td>\n",
       "      <td>Western Europe</td>\n",
       "    </tr>\n",
       "    <tr>\n",
       "      <th>1</th>\n",
       "      <td>Iceland</td>\n",
       "      <td>Western Europe</td>\n",
       "    </tr>\n",
       "    <tr>\n",
       "      <th>2</th>\n",
       "      <td>Denmark</td>\n",
       "      <td>Western Europe</td>\n",
       "    </tr>\n",
       "    <tr>\n",
       "      <th>3</th>\n",
       "      <td>Norway</td>\n",
       "      <td>Western Europe</td>\n",
       "    </tr>\n",
       "    <tr>\n",
       "      <th>4</th>\n",
       "      <td>Canada</td>\n",
       "      <td>North America</td>\n",
       "    </tr>\n",
       "  </tbody>\n",
       "</table>\n",
       "</div>"
      ],
      "text/plain": [
       "       Country          Region\n",
       "0  Switzerland  Western Europe\n",
       "1      Iceland  Western Europe\n",
       "2      Denmark  Western Europe\n",
       "3       Norway  Western Europe\n",
       "4       Canada   North America"
      ]
     },
     "execution_count": 119,
     "metadata": {},
     "output_type": "execute_result"
    }
   ],
   "source": [
    "# Create new df from df15 with Country & Region\n",
    "\n",
    "dfregion15= df15b[['Country','Region']].copy()\n",
    "dfregion15.head()"
   ]
  },
  {
   "cell_type": "code",
   "execution_count": 120,
   "id": "8c3a7392",
   "metadata": {},
   "outputs": [
    {
     "data": {
      "text/plain": [
       "(158, 2)"
      ]
     },
     "execution_count": 120,
     "metadata": {},
     "output_type": "execute_result"
    }
   ],
   "source": [
    "dfregion15.shape"
   ]
  },
  {
   "cell_type": "code",
   "execution_count": 121,
   "id": "704ddff9",
   "metadata": {},
   "outputs": [
    {
     "data": {
      "text/html": [
       "<div>\n",
       "<style scoped>\n",
       "    .dataframe tbody tr th:only-of-type {\n",
       "        vertical-align: middle;\n",
       "    }\n",
       "\n",
       "    .dataframe tbody tr th {\n",
       "        vertical-align: top;\n",
       "    }\n",
       "\n",
       "    .dataframe thead th {\n",
       "        text-align: right;\n",
       "    }\n",
       "</style>\n",
       "<table border=\"1\" class=\"dataframe\">\n",
       "  <thead>\n",
       "    <tr style=\"text-align: right;\">\n",
       "      <th></th>\n",
       "      <th>Country</th>\n",
       "      <th>Region</th>\n",
       "    </tr>\n",
       "  </thead>\n",
       "  <tbody>\n",
       "    <tr>\n",
       "      <th>0</th>\n",
       "      <td>Denmark</td>\n",
       "      <td>Western Europe</td>\n",
       "    </tr>\n",
       "    <tr>\n",
       "      <th>1</th>\n",
       "      <td>Switzerland</td>\n",
       "      <td>Western Europe</td>\n",
       "    </tr>\n",
       "    <tr>\n",
       "      <th>2</th>\n",
       "      <td>Iceland</td>\n",
       "      <td>Western Europe</td>\n",
       "    </tr>\n",
       "    <tr>\n",
       "      <th>3</th>\n",
       "      <td>Norway</td>\n",
       "      <td>Western Europe</td>\n",
       "    </tr>\n",
       "    <tr>\n",
       "      <th>4</th>\n",
       "      <td>Finland</td>\n",
       "      <td>Western Europe</td>\n",
       "    </tr>\n",
       "  </tbody>\n",
       "</table>\n",
       "</div>"
      ],
      "text/plain": [
       "       Country          Region\n",
       "0      Denmark  Western Europe\n",
       "1  Switzerland  Western Europe\n",
       "2      Iceland  Western Europe\n",
       "3       Norway  Western Europe\n",
       "4      Finland  Western Europe"
      ]
     },
     "execution_count": 121,
     "metadata": {},
     "output_type": "execute_result"
    }
   ],
   "source": [
    "# Create new df from df16 with Country & Region\n",
    "\n",
    "dfregion16= df16b[['Country','Region']].copy()\n",
    "dfregion16.head()"
   ]
  },
  {
   "cell_type": "code",
   "execution_count": 122,
   "id": "20e98a98",
   "metadata": {},
   "outputs": [
    {
     "data": {
      "text/plain": [
       "(157, 2)"
      ]
     },
     "execution_count": 122,
     "metadata": {},
     "output_type": "execute_result"
    }
   ],
   "source": [
    "dfregion16.shape"
   ]
  },
  {
   "cell_type": "markdown",
   "id": "446950dd",
   "metadata": {},
   "source": [
    "##### Concate dfregio15 & dfregion16"
   ]
  },
  {
   "cell_type": "code",
   "execution_count": 123,
   "id": "991207e0",
   "metadata": {},
   "outputs": [
    {
     "data": {
      "text/plain": [
       "(315, 2)"
      ]
     },
     "execution_count": 123,
     "metadata": {},
     "output_type": "execute_result"
    }
   ],
   "source": [
    "# Concate df's\n",
    "\n",
    "frames=[dfregion15,dfregion16]\n",
    "dfregions=pd.concat(frames)\n",
    "dfregions.shape"
   ]
  },
  {
   "cell_type": "code",
   "execution_count": 124,
   "id": "d016fd9d",
   "metadata": {},
   "outputs": [
    {
     "data": {
      "text/plain": [
       "Switzerland          2\n",
       "Iran                 2\n",
       "Lebanon              2\n",
       "Hungary              2\n",
       "Honduras             2\n",
       "                    ..\n",
       "Somaliland region    1\n",
       "Mozambique           1\n",
       "Djibouti             1\n",
       "Oman                 1\n",
       "South Sudan          1\n",
       "Name: Country, Length: 164, dtype: int64"
      ]
     },
     "execution_count": 124,
     "metadata": {},
     "output_type": "execute_result"
    }
   ],
   "source": [
    "dfregions['Country'].value_counts(dropna=False)"
   ]
  },
  {
   "cell_type": "code",
   "execution_count": 125,
   "id": "3973ae6e",
   "metadata": {},
   "outputs": [
    {
     "data": {
      "text/plain": [
       "(164, 2)"
      ]
     },
     "execution_count": 125,
     "metadata": {},
     "output_type": "execute_result"
    }
   ],
   "source": [
    "# Reduce df to unique values only\n",
    "\n",
    "dfcountry_unique = dfregions.drop_duplicates()\n",
    "dfcountry_unique.shape"
   ]
  },
  {
   "cell_type": "code",
   "execution_count": 126,
   "id": "7d146785",
   "metadata": {},
   "outputs": [
    {
     "name": "stdout",
     "output_type": "stream",
     "text": [
      "Country    object\n",
      "Region     object\n",
      "dtype: object\n"
     ]
    }
   ],
   "source": [
    "# Check for mixed dtypes\n",
    "\n",
    "print(dfcountry_unique.dtypes) # no mixed dtype found"
   ]
  },
  {
   "cell_type": "code",
   "execution_count": 127,
   "id": "ca9acffd",
   "metadata": {},
   "outputs": [
    {
     "data": {
      "text/html": [
       "<div>\n",
       "<style scoped>\n",
       "    .dataframe tbody tr th:only-of-type {\n",
       "        vertical-align: middle;\n",
       "    }\n",
       "\n",
       "    .dataframe tbody tr th {\n",
       "        vertical-align: top;\n",
       "    }\n",
       "\n",
       "    .dataframe thead th {\n",
       "        text-align: right;\n",
       "    }\n",
       "</style>\n",
       "<table border=\"1\" class=\"dataframe\">\n",
       "  <thead>\n",
       "    <tr style=\"text-align: right;\">\n",
       "      <th></th>\n",
       "      <th>Country</th>\n",
       "      <th>Region</th>\n",
       "    </tr>\n",
       "  </thead>\n",
       "  <tbody>\n",
       "    <tr>\n",
       "      <th>0</th>\n",
       "      <td>Switzerland</td>\n",
       "      <td>Western Europe</td>\n",
       "    </tr>\n",
       "    <tr>\n",
       "      <th>1</th>\n",
       "      <td>Iceland</td>\n",
       "      <td>Western Europe</td>\n",
       "    </tr>\n",
       "    <tr>\n",
       "      <th>2</th>\n",
       "      <td>Denmark</td>\n",
       "      <td>Western Europe</td>\n",
       "    </tr>\n",
       "    <tr>\n",
       "      <th>3</th>\n",
       "      <td>Norway</td>\n",
       "      <td>Western Europe</td>\n",
       "    </tr>\n",
       "    <tr>\n",
       "      <th>4</th>\n",
       "      <td>Canada</td>\n",
       "      <td>North America</td>\n",
       "    </tr>\n",
       "  </tbody>\n",
       "</table>\n",
       "</div>"
      ],
      "text/plain": [
       "       Country          Region\n",
       "0  Switzerland  Western Europe\n",
       "1      Iceland  Western Europe\n",
       "2      Denmark  Western Europe\n",
       "3       Norway  Western Europe\n",
       "4       Canada   North America"
      ]
     },
     "execution_count": 127,
     "metadata": {},
     "output_type": "execute_result"
    }
   ],
   "source": [
    "dfcountry_unique.head()"
   ]
  },
  {
   "cell_type": "markdown",
   "id": "6f82842b",
   "metadata": {},
   "source": [
    "#### Merge df's with - LEFT JOIN"
   ]
  },
  {
   "cell_type": "code",
   "execution_count": 128,
   "id": "38c0a358",
   "metadata": {},
   "outputs": [],
   "source": [
    "# Left JOIN\n",
    "\n",
    "dfall=pd.merge(dfall,dfcountry_unique, on='Country', how='left')"
   ]
  },
  {
   "cell_type": "code",
   "execution_count": 129,
   "id": "5851f330",
   "metadata": {},
   "outputs": [
    {
     "data": {
      "text/html": [
       "<div>\n",
       "<style scoped>\n",
       "    .dataframe tbody tr th:only-of-type {\n",
       "        vertical-align: middle;\n",
       "    }\n",
       "\n",
       "    .dataframe tbody tr th {\n",
       "        vertical-align: top;\n",
       "    }\n",
       "\n",
       "    .dataframe thead th {\n",
       "        text-align: right;\n",
       "    }\n",
       "</style>\n",
       "<table border=\"1\" class=\"dataframe\">\n",
       "  <thead>\n",
       "    <tr style=\"text-align: right;\">\n",
       "      <th></th>\n",
       "      <th>Year</th>\n",
       "      <th>Country</th>\n",
       "      <th>Overall rank</th>\n",
       "      <th>Happiness score</th>\n",
       "      <th>GDP per capita</th>\n",
       "      <th>Social support</th>\n",
       "      <th>Healthy life expectancy</th>\n",
       "      <th>Freedom to make life choices</th>\n",
       "      <th>Generosity</th>\n",
       "      <th>Perceptions of corruption</th>\n",
       "      <th>Region</th>\n",
       "    </tr>\n",
       "  </thead>\n",
       "  <tbody>\n",
       "    <tr>\n",
       "      <th>0</th>\n",
       "      <td>2019</td>\n",
       "      <td>Finland</td>\n",
       "      <td>1</td>\n",
       "      <td>7.769</td>\n",
       "      <td>1.340</td>\n",
       "      <td>1.587</td>\n",
       "      <td>0.986</td>\n",
       "      <td>0.596</td>\n",
       "      <td>0.153</td>\n",
       "      <td>0.393</td>\n",
       "      <td>Western Europe</td>\n",
       "    </tr>\n",
       "    <tr>\n",
       "      <th>1</th>\n",
       "      <td>2019</td>\n",
       "      <td>Denmark</td>\n",
       "      <td>2</td>\n",
       "      <td>7.600</td>\n",
       "      <td>1.383</td>\n",
       "      <td>1.573</td>\n",
       "      <td>0.996</td>\n",
       "      <td>0.592</td>\n",
       "      <td>0.252</td>\n",
       "      <td>0.410</td>\n",
       "      <td>Western Europe</td>\n",
       "    </tr>\n",
       "    <tr>\n",
       "      <th>2</th>\n",
       "      <td>2019</td>\n",
       "      <td>Norway</td>\n",
       "      <td>3</td>\n",
       "      <td>7.554</td>\n",
       "      <td>1.488</td>\n",
       "      <td>1.582</td>\n",
       "      <td>1.028</td>\n",
       "      <td>0.603</td>\n",
       "      <td>0.271</td>\n",
       "      <td>0.341</td>\n",
       "      <td>Western Europe</td>\n",
       "    </tr>\n",
       "    <tr>\n",
       "      <th>3</th>\n",
       "      <td>2019</td>\n",
       "      <td>Iceland</td>\n",
       "      <td>4</td>\n",
       "      <td>7.494</td>\n",
       "      <td>1.380</td>\n",
       "      <td>1.624</td>\n",
       "      <td>1.026</td>\n",
       "      <td>0.591</td>\n",
       "      <td>0.354</td>\n",
       "      <td>0.118</td>\n",
       "      <td>Western Europe</td>\n",
       "    </tr>\n",
       "    <tr>\n",
       "      <th>4</th>\n",
       "      <td>2019</td>\n",
       "      <td>Netherlands</td>\n",
       "      <td>5</td>\n",
       "      <td>7.488</td>\n",
       "      <td>1.396</td>\n",
       "      <td>1.522</td>\n",
       "      <td>0.999</td>\n",
       "      <td>0.557</td>\n",
       "      <td>0.322</td>\n",
       "      <td>0.298</td>\n",
       "      <td>Western Europe</td>\n",
       "    </tr>\n",
       "  </tbody>\n",
       "</table>\n",
       "</div>"
      ],
      "text/plain": [
       "   Year      Country  Overall rank  Happiness score  GDP per capita  \\\n",
       "0  2019      Finland             1            7.769           1.340   \n",
       "1  2019      Denmark             2            7.600           1.383   \n",
       "2  2019       Norway             3            7.554           1.488   \n",
       "3  2019      Iceland             4            7.494           1.380   \n",
       "4  2019  Netherlands             5            7.488           1.396   \n",
       "\n",
       "   Social support  Healthy life expectancy  Freedom to make life choices  \\\n",
       "0           1.587                    0.986                         0.596   \n",
       "1           1.573                    0.996                         0.592   \n",
       "2           1.582                    1.028                         0.603   \n",
       "3           1.624                    1.026                         0.591   \n",
       "4           1.522                    0.999                         0.557   \n",
       "\n",
       "   Generosity  Perceptions of corruption          Region  \n",
       "0       0.153                      0.393  Western Europe  \n",
       "1       0.252                      0.410  Western Europe  \n",
       "2       0.271                      0.341  Western Europe  \n",
       "3       0.354                      0.118  Western Europe  \n",
       "4       0.322                      0.298  Western Europe  "
      ]
     },
     "execution_count": 129,
     "metadata": {},
     "output_type": "execute_result"
    }
   ],
   "source": [
    "dfall.head()"
   ]
  },
  {
   "cell_type": "code",
   "execution_count": 130,
   "id": "6add24d5",
   "metadata": {
    "scrolled": true
   },
   "outputs": [
    {
     "data": {
      "text/plain": [
       "Sub-Saharan Africa                 195\n",
       "Central and Eastern Europe         144\n",
       "Latin America and Caribbean        109\n",
       "Western Europe                     103\n",
       "Middle East and Northern Africa     96\n",
       "Southeastern Asia                   44\n",
       "Southern Asia                       35\n",
       "Eastern Asia                        28\n",
       "Australia and New Zealand           10\n",
       "North America                       10\n",
       "NaN                                  8\n",
       "Name: Region, dtype: int64"
      ]
     },
     "execution_count": 130,
     "metadata": {},
     "output_type": "execute_result"
    }
   ],
   "source": [
    "dfall['Region'].value_counts(dropna=False)"
   ]
  },
  {
   "cell_type": "code",
   "execution_count": 131,
   "id": "9c0070fa",
   "metadata": {},
   "outputs": [],
   "source": [
    "# Using DataFrame.reindex() to change columns order\n",
    "\n",
    "change_column = ['Year','Country','Region','Overall rank','Happiness score','GDP per capita','Social support','Healthy life expectancy','Freedom to make life choices','Generosity','Perceptions of corruption']"
   ]
  },
  {
   "cell_type": "code",
   "execution_count": 132,
   "id": "6d642b16",
   "metadata": {},
   "outputs": [
    {
     "data": {
      "text/plain": [
       "Index(['Year', 'Country', 'Region', 'Overall rank', 'Happiness score',\n",
       "       'GDP per capita', 'Social support', 'Healthy life expectancy',\n",
       "       'Freedom to make life choices', 'Generosity',\n",
       "       'Perceptions of corruption'],\n",
       "      dtype='object')"
      ]
     },
     "execution_count": 132,
     "metadata": {},
     "output_type": "execute_result"
    }
   ],
   "source": [
    "dfall = dfall.reindex(columns=change_column)\n",
    "dfall.columns"
   ]
  },
  {
   "cell_type": "markdown",
   "id": "bbc84888",
   "metadata": {},
   "source": [
    "### 5. Data Profiling and Cleaning"
   ]
  },
  {
   "cell_type": "markdown",
   "id": "3b3c89e1",
   "metadata": {},
   "source": [
    "##### Missing Values Check"
   ]
  },
  {
   "cell_type": "code",
   "execution_count": 133,
   "id": "1722b07c",
   "metadata": {},
   "outputs": [
    {
     "data": {
      "text/plain": [
       "Year                            0\n",
       "Country                         0\n",
       "Region                          8\n",
       "Overall rank                    0\n",
       "Happiness score                 0\n",
       "GDP per capita                  0\n",
       "Social support                  0\n",
       "Healthy life expectancy         0\n",
       "Freedom to make life choices    0\n",
       "Generosity                      0\n",
       "Perceptions of corruption       1\n",
       "dtype: int64"
      ]
     },
     "execution_count": 133,
     "metadata": {},
     "output_type": "execute_result"
    }
   ],
   "source": [
    "# Check for missing values\n",
    "\n",
    "dfall.isnull().sum()       ## 1 missing value: \"Perceptions of corruption\"\n",
    "                           ## 8 missing values: \"Region\" "
   ]
  },
  {
   "cell_type": "code",
   "execution_count": 134,
   "id": "d7feecfb",
   "metadata": {},
   "outputs": [
    {
     "data": {
      "text/html": [
       "<div>\n",
       "<style scoped>\n",
       "    .dataframe tbody tr th:only-of-type {\n",
       "        vertical-align: middle;\n",
       "    }\n",
       "\n",
       "    .dataframe tbody tr th {\n",
       "        vertical-align: top;\n",
       "    }\n",
       "\n",
       "    .dataframe thead th {\n",
       "        text-align: right;\n",
       "    }\n",
       "</style>\n",
       "<table border=\"1\" class=\"dataframe\">\n",
       "  <thead>\n",
       "    <tr style=\"text-align: right;\">\n",
       "      <th></th>\n",
       "      <th>Year</th>\n",
       "      <th>Country</th>\n",
       "      <th>Region</th>\n",
       "      <th>Overall rank</th>\n",
       "      <th>Happiness score</th>\n",
       "      <th>GDP per capita</th>\n",
       "      <th>Social support</th>\n",
       "      <th>Healthy life expectancy</th>\n",
       "      <th>Freedom to make life choices</th>\n",
       "      <th>Generosity</th>\n",
       "      <th>Perceptions of corruption</th>\n",
       "    </tr>\n",
       "  </thead>\n",
       "  <tbody>\n",
       "    <tr>\n",
       "      <th>38</th>\n",
       "      <td>2019</td>\n",
       "      <td>Trinidad &amp; Tobago</td>\n",
       "      <td>NaN</td>\n",
       "      <td>39</td>\n",
       "      <td>6.192</td>\n",
       "      <td>1.231000</td>\n",
       "      <td>1.477000</td>\n",
       "      <td>0.713000</td>\n",
       "      <td>0.489000</td>\n",
       "      <td>0.185000</td>\n",
       "      <td>0.016000</td>\n",
       "    </tr>\n",
       "    <tr>\n",
       "      <th>63</th>\n",
       "      <td>2019</td>\n",
       "      <td>Northern Cyprus</td>\n",
       "      <td>NaN</td>\n",
       "      <td>64</td>\n",
       "      <td>5.718</td>\n",
       "      <td>1.263000</td>\n",
       "      <td>1.252000</td>\n",
       "      <td>1.042000</td>\n",
       "      <td>0.417000</td>\n",
       "      <td>0.191000</td>\n",
       "      <td>0.162000</td>\n",
       "    </tr>\n",
       "    <tr>\n",
       "      <th>83</th>\n",
       "      <td>2019</td>\n",
       "      <td>North Macedonia</td>\n",
       "      <td>NaN</td>\n",
       "      <td>84</td>\n",
       "      <td>5.274</td>\n",
       "      <td>0.983000</td>\n",
       "      <td>1.294000</td>\n",
       "      <td>0.838000</td>\n",
       "      <td>0.345000</td>\n",
       "      <td>0.185000</td>\n",
       "      <td>0.034000</td>\n",
       "    </tr>\n",
       "    <tr>\n",
       "      <th>119</th>\n",
       "      <td>2019</td>\n",
       "      <td>Gambia</td>\n",
       "      <td>NaN</td>\n",
       "      <td>120</td>\n",
       "      <td>4.516</td>\n",
       "      <td>0.308000</td>\n",
       "      <td>0.939000</td>\n",
       "      <td>0.428000</td>\n",
       "      <td>0.382000</td>\n",
       "      <td>0.269000</td>\n",
       "      <td>0.167000</td>\n",
       "    </tr>\n",
       "    <tr>\n",
       "      <th>193</th>\n",
       "      <td>2018</td>\n",
       "      <td>Trinidad &amp; Tobago</td>\n",
       "      <td>NaN</td>\n",
       "      <td>38</td>\n",
       "      <td>6.192</td>\n",
       "      <td>1.223000</td>\n",
       "      <td>1.492000</td>\n",
       "      <td>0.564000</td>\n",
       "      <td>0.575000</td>\n",
       "      <td>0.171000</td>\n",
       "      <td>0.019000</td>\n",
       "    </tr>\n",
       "    <tr>\n",
       "      <th>213</th>\n",
       "      <td>2018</td>\n",
       "      <td>Northern Cyprus</td>\n",
       "      <td>NaN</td>\n",
       "      <td>58</td>\n",
       "      <td>5.835</td>\n",
       "      <td>1.229000</td>\n",
       "      <td>1.211000</td>\n",
       "      <td>0.909000</td>\n",
       "      <td>0.495000</td>\n",
       "      <td>0.179000</td>\n",
       "      <td>0.154000</td>\n",
       "    </tr>\n",
       "    <tr>\n",
       "      <th>344</th>\n",
       "      <td>2017</td>\n",
       "      <td>Taiwan Province of China</td>\n",
       "      <td>NaN</td>\n",
       "      <td>33</td>\n",
       "      <td>6.422</td>\n",
       "      <td>1.433627</td>\n",
       "      <td>1.384565</td>\n",
       "      <td>0.793984</td>\n",
       "      <td>0.361467</td>\n",
       "      <td>0.258360</td>\n",
       "      <td>0.063829</td>\n",
       "    </tr>\n",
       "    <tr>\n",
       "      <th>382</th>\n",
       "      <td>2017</td>\n",
       "      <td>Hong Kong S.A.R., China</td>\n",
       "      <td>NaN</td>\n",
       "      <td>71</td>\n",
       "      <td>5.472</td>\n",
       "      <td>1.551675</td>\n",
       "      <td>1.262791</td>\n",
       "      <td>0.943062</td>\n",
       "      <td>0.490969</td>\n",
       "      <td>0.374466</td>\n",
       "      <td>0.293934</td>\n",
       "    </tr>\n",
       "  </tbody>\n",
       "</table>\n",
       "</div>"
      ],
      "text/plain": [
       "     Year                   Country Region  Overall rank  Happiness score  \\\n",
       "38   2019         Trinidad & Tobago    NaN            39            6.192   \n",
       "63   2019           Northern Cyprus    NaN            64            5.718   \n",
       "83   2019           North Macedonia    NaN            84            5.274   \n",
       "119  2019                    Gambia    NaN           120            4.516   \n",
       "193  2018         Trinidad & Tobago    NaN            38            6.192   \n",
       "213  2018           Northern Cyprus    NaN            58            5.835   \n",
       "344  2017  Taiwan Province of China    NaN            33            6.422   \n",
       "382  2017   Hong Kong S.A.R., China    NaN            71            5.472   \n",
       "\n",
       "     GDP per capita  Social support  Healthy life expectancy  \\\n",
       "38         1.231000        1.477000                 0.713000   \n",
       "63         1.263000        1.252000                 1.042000   \n",
       "83         0.983000        1.294000                 0.838000   \n",
       "119        0.308000        0.939000                 0.428000   \n",
       "193        1.223000        1.492000                 0.564000   \n",
       "213        1.229000        1.211000                 0.909000   \n",
       "344        1.433627        1.384565                 0.793984   \n",
       "382        1.551675        1.262791                 0.943062   \n",
       "\n",
       "     Freedom to make life choices  Generosity  Perceptions of corruption  \n",
       "38                       0.489000    0.185000                   0.016000  \n",
       "63                       0.417000    0.191000                   0.162000  \n",
       "83                       0.345000    0.185000                   0.034000  \n",
       "119                      0.382000    0.269000                   0.167000  \n",
       "193                      0.575000    0.171000                   0.019000  \n",
       "213                      0.495000    0.179000                   0.154000  \n",
       "344                      0.361467    0.258360                   0.063829  \n",
       "382                      0.490969    0.374466                   0.293934  "
      ]
     },
     "execution_count": 134,
     "metadata": {},
     "output_type": "execute_result"
    }
   ],
   "source": [
    "# Drilling in 8x missing values for 'Region'\n",
    "\n",
    "dfall[dfall['Region'].isnull() == True]"
   ]
  },
  {
   "cell_type": "code",
   "execution_count": 135,
   "id": "77a81f83",
   "metadata": {},
   "outputs": [
    {
     "data": {
      "text/html": [
       "<div>\n",
       "<style scoped>\n",
       "    .dataframe tbody tr th:only-of-type {\n",
       "        vertical-align: middle;\n",
       "    }\n",
       "\n",
       "    .dataframe tbody tr th {\n",
       "        vertical-align: top;\n",
       "    }\n",
       "\n",
       "    .dataframe thead th {\n",
       "        text-align: right;\n",
       "    }\n",
       "</style>\n",
       "<table border=\"1\" class=\"dataframe\">\n",
       "  <thead>\n",
       "    <tr style=\"text-align: right;\">\n",
       "      <th></th>\n",
       "      <th>Year</th>\n",
       "      <th>Country</th>\n",
       "      <th>Region</th>\n",
       "      <th>Overall rank</th>\n",
       "      <th>Happiness score</th>\n",
       "      <th>GDP per capita</th>\n",
       "      <th>Social support</th>\n",
       "      <th>Healthy life expectancy</th>\n",
       "      <th>Freedom to make life choices</th>\n",
       "      <th>Generosity</th>\n",
       "      <th>Perceptions of corruption</th>\n",
       "    </tr>\n",
       "  </thead>\n",
       "  <tbody>\n",
       "    <tr>\n",
       "      <th>175</th>\n",
       "      <td>2018</td>\n",
       "      <td>United Arab Emirates</td>\n",
       "      <td>Middle East and Northern Africa</td>\n",
       "      <td>20</td>\n",
       "      <td>6.774</td>\n",
       "      <td>2.096</td>\n",
       "      <td>0.776</td>\n",
       "      <td>0.67</td>\n",
       "      <td>0.284</td>\n",
       "      <td>0.186</td>\n",
       "      <td>NaN</td>\n",
       "    </tr>\n",
       "  </tbody>\n",
       "</table>\n",
       "</div>"
      ],
      "text/plain": [
       "     Year               Country                           Region  \\\n",
       "175  2018  United Arab Emirates  Middle East and Northern Africa   \n",
       "\n",
       "     Overall rank  Happiness score  GDP per capita  Social support  \\\n",
       "175            20            6.774           2.096           0.776   \n",
       "\n",
       "     Healthy life expectancy  Freedom to make life choices  Generosity  \\\n",
       "175                     0.67                         0.284       0.186   \n",
       "\n",
       "     Perceptions of corruption  \n",
       "175                        NaN  "
      ]
     },
     "execution_count": 135,
     "metadata": {},
     "output_type": "execute_result"
    }
   ],
   "source": [
    "# Drilling in 1x missing values for 'Perception of corruption'\n",
    "\n",
    "dfall[dfall['Perceptions of corruption'].isnull() == True]"
   ]
  },
  {
   "cell_type": "markdown",
   "id": "0006a3f4",
   "metadata": {},
   "source": [
    "##### Duplicates Check"
   ]
  },
  {
   "cell_type": "code",
   "execution_count": 136,
   "id": "f3c7fa7e",
   "metadata": {},
   "outputs": [
    {
     "data": {
      "text/plain": [
       "(0, 11)"
      ]
     },
     "execution_count": 136,
     "metadata": {},
     "output_type": "execute_result"
    }
   ],
   "source": [
    "# Find duplicates\n",
    "\n",
    "df_dups = dfall[dfall.duplicated()]\n",
    "df_dups.shape # No duplicates!"
   ]
  },
  {
   "cell_type": "markdown",
   "id": "ac638ca9",
   "metadata": {},
   "source": [
    "##### Mixed data-type Check"
   ]
  },
  {
   "cell_type": "code",
   "execution_count": 137,
   "id": "ee2e96db",
   "metadata": {},
   "outputs": [],
   "source": [
    "for col in df19.columns.tolist():\n",
    "  weird = (df19[[col]].applymap(type) != df19[[col]].iloc[0].apply(type)).any(axis = 1)\n",
    "  if len (df19[weird]) > 0:\n",
    "    print (col)                   \n",
    "    \n",
    "# Note: No mixed datatypes found."
   ]
  },
  {
   "cell_type": "markdown",
   "id": "509a5759",
   "metadata": {},
   "source": [
    "### Data Accuracy check"
   ]
  },
  {
   "cell_type": "markdown",
   "id": "e132338f",
   "metadata": {},
   "source": [
    "##### 'Year'"
   ]
  },
  {
   "cell_type": "code",
   "execution_count": 61,
   "id": "005be8c8",
   "metadata": {},
   "outputs": [
    {
     "data": {
      "text/plain": [
       "2015    158\n",
       "2016    157\n",
       "2019    156\n",
       "2018    156\n",
       "2017    155\n",
       "Name: Year, dtype: int64"
      ]
     },
     "execution_count": 61,
     "metadata": {},
     "output_type": "execute_result"
    }
   ],
   "source": [
    "# Frequency distribution\n",
    "\n",
    "dfall['Year'].value_counts(dropna=False)"
   ]
  },
  {
   "cell_type": "code",
   "execution_count": 62,
   "id": "04af2c8c",
   "metadata": {},
   "outputs": [],
   "source": [
    "dfall['Year'].value_counts(dropna=False).to_clipboard()"
   ]
  },
  {
   "cell_type": "markdown",
   "id": "c4c8961c",
   "metadata": {},
   "source": [
    "##### 'Country'"
   ]
  },
  {
   "cell_type": "code",
   "execution_count": 63,
   "id": "0bf2ef8d",
   "metadata": {
    "scrolled": false
   },
   "outputs": [
    {
     "data": {
      "text/plain": [
       "Finland              5\n",
       "Tajikistan           5\n",
       "Cameroon             5\n",
       "Bulgaria             5\n",
       "Ghana                5\n",
       "                    ..\n",
       "Gambia               1\n",
       "Somaliland Region    1\n",
       "Oman                 1\n",
       "Somaliland region    1\n",
       "Djibouti             1\n",
       "Name: Country, Length: 170, dtype: int64"
      ]
     },
     "execution_count": 63,
     "metadata": {},
     "output_type": "execute_result"
    }
   ],
   "source": [
    "# Frequency distribution\n",
    "\n",
    "dfall['Country'].value_counts(dropna=False)"
   ]
  },
  {
   "cell_type": "code",
   "execution_count": 64,
   "id": "1ec67d6d",
   "metadata": {},
   "outputs": [],
   "source": [
    "dfall['Country'].value_counts(dropna=False).to_clipboard()"
   ]
  },
  {
   "cell_type": "markdown",
   "id": "c086a78e",
   "metadata": {},
   "source": [
    "Fixing inconsistencies"
   ]
  },
  {
   "cell_type": "code",
   "execution_count": 65,
   "id": "849476af",
   "metadata": {},
   "outputs": [],
   "source": [
    "# Create list of values to be replaced\n",
    "\n",
    "replace_values = {'Hong Kong S.A.R., China' : 'Hong Kong', 'Somaliland region' : 'Somaliland Region','Trinidad and Tobago' : 'Trinidad & Tobago','Taiwan Province of China' : 'Taiwan'}"
   ]
  },
  {
   "cell_type": "code",
   "execution_count": 66,
   "id": "54ae2647",
   "metadata": {},
   "outputs": [],
   "source": [
    "# Rename/Replace values in dfall\n",
    "\n",
    "dfall = dfall.replace({'Country': replace_values})"
   ]
  },
  {
   "cell_type": "code",
   "execution_count": 67,
   "id": "e9c1e0eb",
   "metadata": {},
   "outputs": [
    {
     "data": {
      "text/html": [
       "<div>\n",
       "<style scoped>\n",
       "    .dataframe tbody tr th:only-of-type {\n",
       "        vertical-align: middle;\n",
       "    }\n",
       "\n",
       "    .dataframe tbody tr th {\n",
       "        vertical-align: top;\n",
       "    }\n",
       "\n",
       "    .dataframe thead th {\n",
       "        text-align: right;\n",
       "    }\n",
       "</style>\n",
       "<table border=\"1\" class=\"dataframe\">\n",
       "  <thead>\n",
       "    <tr style=\"text-align: right;\">\n",
       "      <th></th>\n",
       "      <th>Year</th>\n",
       "      <th>Country</th>\n",
       "      <th>Region</th>\n",
       "      <th>Overall rank</th>\n",
       "      <th>Happiness score</th>\n",
       "      <th>GDP per capita</th>\n",
       "      <th>Social support</th>\n",
       "      <th>Healthy life expectancy</th>\n",
       "      <th>Freedom to make life choices</th>\n",
       "      <th>Generosity</th>\n",
       "      <th>Perceptions of corruption</th>\n",
       "    </tr>\n",
       "  </thead>\n",
       "  <tbody>\n",
       "  </tbody>\n",
       "</table>\n",
       "</div>"
      ],
      "text/plain": [
       "Empty DataFrame\n",
       "Columns: [Year, Country, Region, Overall rank, Happiness score, GDP per capita, Social support, Healthy life expectancy, Freedom to make life choices, Generosity, Perceptions of corruption]\n",
       "Index: []"
      ]
     },
     "execution_count": 67,
     "metadata": {},
     "output_type": "execute_result"
    }
   ],
   "source": [
    "# 1 CHECK - 'Hong Kong S.A.R.'\n",
    "\n",
    "dfall.loc[dfall['Country'] == 'Hong Kong S.A.R., China']"
   ]
  },
  {
   "cell_type": "code",
   "execution_count": 68,
   "id": "78045ed8",
   "metadata": {},
   "outputs": [
    {
     "data": {
      "text/html": [
       "<div>\n",
       "<style scoped>\n",
       "    .dataframe tbody tr th:only-of-type {\n",
       "        vertical-align: middle;\n",
       "    }\n",
       "\n",
       "    .dataframe tbody tr th {\n",
       "        vertical-align: top;\n",
       "    }\n",
       "\n",
       "    .dataframe thead th {\n",
       "        text-align: right;\n",
       "    }\n",
       "</style>\n",
       "<table border=\"1\" class=\"dataframe\">\n",
       "  <thead>\n",
       "    <tr style=\"text-align: right;\">\n",
       "      <th></th>\n",
       "      <th>Year</th>\n",
       "      <th>Country</th>\n",
       "      <th>Region</th>\n",
       "      <th>Overall rank</th>\n",
       "      <th>Happiness score</th>\n",
       "      <th>GDP per capita</th>\n",
       "      <th>Social support</th>\n",
       "      <th>Healthy life expectancy</th>\n",
       "      <th>Freedom to make life choices</th>\n",
       "      <th>Generosity</th>\n",
       "      <th>Perceptions of corruption</th>\n",
       "    </tr>\n",
       "  </thead>\n",
       "  <tbody>\n",
       "    <tr>\n",
       "      <th>75</th>\n",
       "      <td>2019</td>\n",
       "      <td>Hong Kong</td>\n",
       "      <td>Eastern Asia</td>\n",
       "      <td>76</td>\n",
       "      <td>5.430</td>\n",
       "      <td>1.438000</td>\n",
       "      <td>1.277000</td>\n",
       "      <td>1.122000</td>\n",
       "      <td>0.440000</td>\n",
       "      <td>0.258000</td>\n",
       "      <td>0.287000</td>\n",
       "    </tr>\n",
       "    <tr>\n",
       "      <th>231</th>\n",
       "      <td>2018</td>\n",
       "      <td>Hong Kong</td>\n",
       "      <td>Eastern Asia</td>\n",
       "      <td>76</td>\n",
       "      <td>5.430</td>\n",
       "      <td>1.405000</td>\n",
       "      <td>1.290000</td>\n",
       "      <td>1.030000</td>\n",
       "      <td>0.524000</td>\n",
       "      <td>0.246000</td>\n",
       "      <td>0.291000</td>\n",
       "    </tr>\n",
       "    <tr>\n",
       "      <th>382</th>\n",
       "      <td>2017</td>\n",
       "      <td>Hong Kong</td>\n",
       "      <td>NaN</td>\n",
       "      <td>71</td>\n",
       "      <td>5.472</td>\n",
       "      <td>1.551675</td>\n",
       "      <td>1.262791</td>\n",
       "      <td>0.943062</td>\n",
       "      <td>0.490969</td>\n",
       "      <td>0.374466</td>\n",
       "      <td>0.293934</td>\n",
       "    </tr>\n",
       "    <tr>\n",
       "      <th>541</th>\n",
       "      <td>2016</td>\n",
       "      <td>Hong Kong</td>\n",
       "      <td>Eastern Asia</td>\n",
       "      <td>75</td>\n",
       "      <td>5.458</td>\n",
       "      <td>1.510700</td>\n",
       "      <td>0.870210</td>\n",
       "      <td>0.952770</td>\n",
       "      <td>0.480790</td>\n",
       "      <td>0.400970</td>\n",
       "      <td>0.316470</td>\n",
       "    </tr>\n",
       "    <tr>\n",
       "      <th>695</th>\n",
       "      <td>2015</td>\n",
       "      <td>Hong Kong</td>\n",
       "      <td>Eastern Asia</td>\n",
       "      <td>72</td>\n",
       "      <td>5.474</td>\n",
       "      <td>1.386040</td>\n",
       "      <td>1.058180</td>\n",
       "      <td>1.013280</td>\n",
       "      <td>0.596080</td>\n",
       "      <td>0.394780</td>\n",
       "      <td>0.371240</td>\n",
       "    </tr>\n",
       "  </tbody>\n",
       "</table>\n",
       "</div>"
      ],
      "text/plain": [
       "     Year    Country        Region  Overall rank  Happiness score  \\\n",
       "75   2019  Hong Kong  Eastern Asia            76            5.430   \n",
       "231  2018  Hong Kong  Eastern Asia            76            5.430   \n",
       "382  2017  Hong Kong           NaN            71            5.472   \n",
       "541  2016  Hong Kong  Eastern Asia            75            5.458   \n",
       "695  2015  Hong Kong  Eastern Asia            72            5.474   \n",
       "\n",
       "     GDP per capita  Social support  Healthy life expectancy  \\\n",
       "75         1.438000        1.277000                 1.122000   \n",
       "231        1.405000        1.290000                 1.030000   \n",
       "382        1.551675        1.262791                 0.943062   \n",
       "541        1.510700        0.870210                 0.952770   \n",
       "695        1.386040        1.058180                 1.013280   \n",
       "\n",
       "     Freedom to make life choices  Generosity  Perceptions of corruption  \n",
       "75                       0.440000    0.258000                   0.287000  \n",
       "231                      0.524000    0.246000                   0.291000  \n",
       "382                      0.490969    0.374466                   0.293934  \n",
       "541                      0.480790    0.400970                   0.316470  \n",
       "695                      0.596080    0.394780                   0.371240  "
      ]
     },
     "execution_count": 68,
     "metadata": {},
     "output_type": "execute_result"
    }
   ],
   "source": [
    "dfall.loc[dfall['Country'] == 'Hong Kong']"
   ]
  },
  {
   "cell_type": "code",
   "execution_count": 69,
   "id": "b1a35f9f",
   "metadata": {},
   "outputs": [
    {
     "data": {
      "text/html": [
       "<div>\n",
       "<style scoped>\n",
       "    .dataframe tbody tr th:only-of-type {\n",
       "        vertical-align: middle;\n",
       "    }\n",
       "\n",
       "    .dataframe tbody tr th {\n",
       "        vertical-align: top;\n",
       "    }\n",
       "\n",
       "    .dataframe thead th {\n",
       "        text-align: right;\n",
       "    }\n",
       "</style>\n",
       "<table border=\"1\" class=\"dataframe\">\n",
       "  <thead>\n",
       "    <tr style=\"text-align: right;\">\n",
       "      <th></th>\n",
       "      <th>Year</th>\n",
       "      <th>Country</th>\n",
       "      <th>Region</th>\n",
       "      <th>Overall rank</th>\n",
       "      <th>Happiness score</th>\n",
       "      <th>GDP per capita</th>\n",
       "      <th>Social support</th>\n",
       "      <th>Healthy life expectancy</th>\n",
       "      <th>Freedom to make life choices</th>\n",
       "      <th>Generosity</th>\n",
       "      <th>Perceptions of corruption</th>\n",
       "    </tr>\n",
       "  </thead>\n",
       "  <tbody>\n",
       "  </tbody>\n",
       "</table>\n",
       "</div>"
      ],
      "text/plain": [
       "Empty DataFrame\n",
       "Columns: [Year, Country, Region, Overall rank, Happiness score, GDP per capita, Social support, Healthy life expectancy, Freedom to make life choices, Generosity, Perceptions of corruption]\n",
       "Index: []"
      ]
     },
     "execution_count": 69,
     "metadata": {},
     "output_type": "execute_result"
    }
   ],
   "source": [
    "# 2 CHECK - 'Somaliland region'\n",
    "\n",
    "dfall.loc[dfall['Country'] == 'Somaliland region']"
   ]
  },
  {
   "cell_type": "code",
   "execution_count": 70,
   "id": "f168a44c",
   "metadata": {},
   "outputs": [
    {
     "data": {
      "text/html": [
       "<div>\n",
       "<style scoped>\n",
       "    .dataframe tbody tr th:only-of-type {\n",
       "        vertical-align: middle;\n",
       "    }\n",
       "\n",
       "    .dataframe tbody tr th {\n",
       "        vertical-align: top;\n",
       "    }\n",
       "\n",
       "    .dataframe thead th {\n",
       "        text-align: right;\n",
       "    }\n",
       "</style>\n",
       "<table border=\"1\" class=\"dataframe\">\n",
       "  <thead>\n",
       "    <tr style=\"text-align: right;\">\n",
       "      <th></th>\n",
       "      <th>Year</th>\n",
       "      <th>Country</th>\n",
       "      <th>Region</th>\n",
       "      <th>Overall rank</th>\n",
       "      <th>Happiness score</th>\n",
       "      <th>GDP per capita</th>\n",
       "      <th>Social support</th>\n",
       "      <th>Healthy life expectancy</th>\n",
       "      <th>Freedom to make life choices</th>\n",
       "      <th>Generosity</th>\n",
       "      <th>Perceptions of corruption</th>\n",
       "    </tr>\n",
       "  </thead>\n",
       "  <tbody>\n",
       "    <tr>\n",
       "      <th>563</th>\n",
       "      <td>2016</td>\n",
       "      <td>Somaliland Region</td>\n",
       "      <td>Sub-Saharan Africa</td>\n",
       "      <td>97</td>\n",
       "      <td>5.057</td>\n",
       "      <td>0.25558</td>\n",
       "      <td>0.75862</td>\n",
       "      <td>0.33108</td>\n",
       "      <td>0.39130</td>\n",
       "      <td>0.51479</td>\n",
       "      <td>0.36794</td>\n",
       "    </tr>\n",
       "    <tr>\n",
       "      <th>714</th>\n",
       "      <td>2015</td>\n",
       "      <td>Somaliland Region</td>\n",
       "      <td>Sub-Saharan Africa</td>\n",
       "      <td>91</td>\n",
       "      <td>5.057</td>\n",
       "      <td>0.18847</td>\n",
       "      <td>0.95152</td>\n",
       "      <td>0.43873</td>\n",
       "      <td>0.46582</td>\n",
       "      <td>0.50318</td>\n",
       "      <td>0.39928</td>\n",
       "    </tr>\n",
       "  </tbody>\n",
       "</table>\n",
       "</div>"
      ],
      "text/plain": [
       "     Year            Country              Region  Overall rank  \\\n",
       "563  2016  Somaliland Region  Sub-Saharan Africa            97   \n",
       "714  2015  Somaliland Region  Sub-Saharan Africa            91   \n",
       "\n",
       "     Happiness score  GDP per capita  Social support  Healthy life expectancy  \\\n",
       "563            5.057         0.25558         0.75862                  0.33108   \n",
       "714            5.057         0.18847         0.95152                  0.43873   \n",
       "\n",
       "     Freedom to make life choices  Generosity  Perceptions of corruption  \n",
       "563                       0.39130     0.51479                    0.36794  \n",
       "714                       0.46582     0.50318                    0.39928  "
      ]
     },
     "execution_count": 70,
     "metadata": {},
     "output_type": "execute_result"
    }
   ],
   "source": [
    "dfall.loc[dfall['Country'] == 'Somaliland Region']"
   ]
  },
  {
   "cell_type": "code",
   "execution_count": 71,
   "id": "62dbe808",
   "metadata": {},
   "outputs": [
    {
     "data": {
      "text/html": [
       "<div>\n",
       "<style scoped>\n",
       "    .dataframe tbody tr th:only-of-type {\n",
       "        vertical-align: middle;\n",
       "    }\n",
       "\n",
       "    .dataframe tbody tr th {\n",
       "        vertical-align: top;\n",
       "    }\n",
       "\n",
       "    .dataframe thead th {\n",
       "        text-align: right;\n",
       "    }\n",
       "</style>\n",
       "<table border=\"1\" class=\"dataframe\">\n",
       "  <thead>\n",
       "    <tr style=\"text-align: right;\">\n",
       "      <th></th>\n",
       "      <th>Year</th>\n",
       "      <th>Country</th>\n",
       "      <th>Region</th>\n",
       "      <th>Overall rank</th>\n",
       "      <th>Happiness score</th>\n",
       "      <th>GDP per capita</th>\n",
       "      <th>Social support</th>\n",
       "      <th>Healthy life expectancy</th>\n",
       "      <th>Freedom to make life choices</th>\n",
       "      <th>Generosity</th>\n",
       "      <th>Perceptions of corruption</th>\n",
       "    </tr>\n",
       "  </thead>\n",
       "  <tbody>\n",
       "  </tbody>\n",
       "</table>\n",
       "</div>"
      ],
      "text/plain": [
       "Empty DataFrame\n",
       "Columns: [Year, Country, Region, Overall rank, Happiness score, GDP per capita, Social support, Healthy life expectancy, Freedom to make life choices, Generosity, Perceptions of corruption]\n",
       "Index: []"
      ]
     },
     "execution_count": 71,
     "metadata": {},
     "output_type": "execute_result"
    }
   ],
   "source": [
    "# 3 CHECK - 'Trinidad and Tobago'\n",
    "\n",
    "dfall.loc[dfall['Country'] == 'Trinidad and Tobago']"
   ]
  },
  {
   "cell_type": "code",
   "execution_count": 72,
   "id": "15e1397a",
   "metadata": {},
   "outputs": [
    {
     "data": {
      "text/html": [
       "<div>\n",
       "<style scoped>\n",
       "    .dataframe tbody tr th:only-of-type {\n",
       "        vertical-align: middle;\n",
       "    }\n",
       "\n",
       "    .dataframe tbody tr th {\n",
       "        vertical-align: top;\n",
       "    }\n",
       "\n",
       "    .dataframe thead th {\n",
       "        text-align: right;\n",
       "    }\n",
       "</style>\n",
       "<table border=\"1\" class=\"dataframe\">\n",
       "  <thead>\n",
       "    <tr style=\"text-align: right;\">\n",
       "      <th></th>\n",
       "      <th>Year</th>\n",
       "      <th>Country</th>\n",
       "      <th>Region</th>\n",
       "      <th>Overall rank</th>\n",
       "      <th>Happiness score</th>\n",
       "      <th>GDP per capita</th>\n",
       "      <th>Social support</th>\n",
       "      <th>Healthy life expectancy</th>\n",
       "      <th>Freedom to make life choices</th>\n",
       "      <th>Generosity</th>\n",
       "      <th>Perceptions of corruption</th>\n",
       "    </tr>\n",
       "  </thead>\n",
       "  <tbody>\n",
       "    <tr>\n",
       "      <th>38</th>\n",
       "      <td>2019</td>\n",
       "      <td>Trinidad &amp; Tobago</td>\n",
       "      <td>NaN</td>\n",
       "      <td>39</td>\n",
       "      <td>6.192</td>\n",
       "      <td>1.231000</td>\n",
       "      <td>1.477000</td>\n",
       "      <td>0.713000</td>\n",
       "      <td>0.489000</td>\n",
       "      <td>0.185000</td>\n",
       "      <td>0.016000</td>\n",
       "    </tr>\n",
       "    <tr>\n",
       "      <th>193</th>\n",
       "      <td>2018</td>\n",
       "      <td>Trinidad &amp; Tobago</td>\n",
       "      <td>NaN</td>\n",
       "      <td>38</td>\n",
       "      <td>6.192</td>\n",
       "      <td>1.223000</td>\n",
       "      <td>1.492000</td>\n",
       "      <td>0.564000</td>\n",
       "      <td>0.575000</td>\n",
       "      <td>0.171000</td>\n",
       "      <td>0.019000</td>\n",
       "    </tr>\n",
       "    <tr>\n",
       "      <th>349</th>\n",
       "      <td>2017</td>\n",
       "      <td>Trinidad &amp; Tobago</td>\n",
       "      <td>Latin America and Caribbean</td>\n",
       "      <td>38</td>\n",
       "      <td>6.168</td>\n",
       "      <td>1.361356</td>\n",
       "      <td>1.380229</td>\n",
       "      <td>0.519983</td>\n",
       "      <td>0.518631</td>\n",
       "      <td>0.325296</td>\n",
       "      <td>0.008965</td>\n",
       "    </tr>\n",
       "    <tr>\n",
       "      <th>509</th>\n",
       "      <td>2016</td>\n",
       "      <td>Trinidad &amp; Tobago</td>\n",
       "      <td>Latin America and Caribbean</td>\n",
       "      <td>43</td>\n",
       "      <td>6.168</td>\n",
       "      <td>1.325720</td>\n",
       "      <td>0.985690</td>\n",
       "      <td>0.526080</td>\n",
       "      <td>0.484530</td>\n",
       "      <td>0.319350</td>\n",
       "      <td>0.012410</td>\n",
       "    </tr>\n",
       "    <tr>\n",
       "      <th>664</th>\n",
       "      <td>2015</td>\n",
       "      <td>Trinidad &amp; Tobago</td>\n",
       "      <td>Latin America and Caribbean</td>\n",
       "      <td>41</td>\n",
       "      <td>6.168</td>\n",
       "      <td>1.211830</td>\n",
       "      <td>1.183540</td>\n",
       "      <td>0.614830</td>\n",
       "      <td>0.558840</td>\n",
       "      <td>0.318440</td>\n",
       "      <td>0.011400</td>\n",
       "    </tr>\n",
       "  </tbody>\n",
       "</table>\n",
       "</div>"
      ],
      "text/plain": [
       "     Year            Country                       Region  Overall rank  \\\n",
       "38   2019  Trinidad & Tobago                          NaN            39   \n",
       "193  2018  Trinidad & Tobago                          NaN            38   \n",
       "349  2017  Trinidad & Tobago  Latin America and Caribbean            38   \n",
       "509  2016  Trinidad & Tobago  Latin America and Caribbean            43   \n",
       "664  2015  Trinidad & Tobago  Latin America and Caribbean            41   \n",
       "\n",
       "     Happiness score  GDP per capita  Social support  Healthy life expectancy  \\\n",
       "38             6.192        1.231000        1.477000                 0.713000   \n",
       "193            6.192        1.223000        1.492000                 0.564000   \n",
       "349            6.168        1.361356        1.380229                 0.519983   \n",
       "509            6.168        1.325720        0.985690                 0.526080   \n",
       "664            6.168        1.211830        1.183540                 0.614830   \n",
       "\n",
       "     Freedom to make life choices  Generosity  Perceptions of corruption  \n",
       "38                       0.489000    0.185000                   0.016000  \n",
       "193                      0.575000    0.171000                   0.019000  \n",
       "349                      0.518631    0.325296                   0.008965  \n",
       "509                      0.484530    0.319350                   0.012410  \n",
       "664                      0.558840    0.318440                   0.011400  "
      ]
     },
     "execution_count": 72,
     "metadata": {},
     "output_type": "execute_result"
    }
   ],
   "source": [
    "dfall.loc[dfall['Country'] == 'Trinidad & Tobago']"
   ]
  },
  {
   "cell_type": "code",
   "execution_count": 73,
   "id": "ab1a6d09",
   "metadata": {},
   "outputs": [
    {
     "data": {
      "text/html": [
       "<div>\n",
       "<style scoped>\n",
       "    .dataframe tbody tr th:only-of-type {\n",
       "        vertical-align: middle;\n",
       "    }\n",
       "\n",
       "    .dataframe tbody tr th {\n",
       "        vertical-align: top;\n",
       "    }\n",
       "\n",
       "    .dataframe thead th {\n",
       "        text-align: right;\n",
       "    }\n",
       "</style>\n",
       "<table border=\"1\" class=\"dataframe\">\n",
       "  <thead>\n",
       "    <tr style=\"text-align: right;\">\n",
       "      <th></th>\n",
       "      <th>Year</th>\n",
       "      <th>Country</th>\n",
       "      <th>Region</th>\n",
       "      <th>Overall rank</th>\n",
       "      <th>Happiness score</th>\n",
       "      <th>GDP per capita</th>\n",
       "      <th>Social support</th>\n",
       "      <th>Healthy life expectancy</th>\n",
       "      <th>Freedom to make life choices</th>\n",
       "      <th>Generosity</th>\n",
       "      <th>Perceptions of corruption</th>\n",
       "    </tr>\n",
       "  </thead>\n",
       "  <tbody>\n",
       "  </tbody>\n",
       "</table>\n",
       "</div>"
      ],
      "text/plain": [
       "Empty DataFrame\n",
       "Columns: [Year, Country, Region, Overall rank, Happiness score, GDP per capita, Social support, Healthy life expectancy, Freedom to make life choices, Generosity, Perceptions of corruption]\n",
       "Index: []"
      ]
     },
     "execution_count": 73,
     "metadata": {},
     "output_type": "execute_result"
    }
   ],
   "source": [
    "# 4 CHECK - 'Taiwan Province of China'\n",
    "\n",
    "dfall.loc[dfall['Country'] == 'Taiwan Province of China']"
   ]
  },
  {
   "cell_type": "code",
   "execution_count": 74,
   "id": "98042d54",
   "metadata": {},
   "outputs": [
    {
     "data": {
      "text/html": [
       "<div>\n",
       "<style scoped>\n",
       "    .dataframe tbody tr th:only-of-type {\n",
       "        vertical-align: middle;\n",
       "    }\n",
       "\n",
       "    .dataframe tbody tr th {\n",
       "        vertical-align: top;\n",
       "    }\n",
       "\n",
       "    .dataframe thead th {\n",
       "        text-align: right;\n",
       "    }\n",
       "</style>\n",
       "<table border=\"1\" class=\"dataframe\">\n",
       "  <thead>\n",
       "    <tr style=\"text-align: right;\">\n",
       "      <th></th>\n",
       "      <th>Year</th>\n",
       "      <th>Country</th>\n",
       "      <th>Region</th>\n",
       "      <th>Overall rank</th>\n",
       "      <th>Happiness score</th>\n",
       "      <th>GDP per capita</th>\n",
       "      <th>Social support</th>\n",
       "      <th>Healthy life expectancy</th>\n",
       "      <th>Freedom to make life choices</th>\n",
       "      <th>Generosity</th>\n",
       "      <th>Perceptions of corruption</th>\n",
       "    </tr>\n",
       "  </thead>\n",
       "  <tbody>\n",
       "    <tr>\n",
       "      <th>24</th>\n",
       "      <td>2019</td>\n",
       "      <td>Taiwan</td>\n",
       "      <td>Eastern Asia</td>\n",
       "      <td>25</td>\n",
       "      <td>6.446</td>\n",
       "      <td>1.368000</td>\n",
       "      <td>1.430000</td>\n",
       "      <td>0.914000</td>\n",
       "      <td>0.351000</td>\n",
       "      <td>0.24200</td>\n",
       "      <td>0.097000</td>\n",
       "    </tr>\n",
       "    <tr>\n",
       "      <th>181</th>\n",
       "      <td>2018</td>\n",
       "      <td>Taiwan</td>\n",
       "      <td>Eastern Asia</td>\n",
       "      <td>26</td>\n",
       "      <td>6.441</td>\n",
       "      <td>1.365000</td>\n",
       "      <td>1.436000</td>\n",
       "      <td>0.857000</td>\n",
       "      <td>0.418000</td>\n",
       "      <td>0.15100</td>\n",
       "      <td>0.078000</td>\n",
       "    </tr>\n",
       "    <tr>\n",
       "      <th>344</th>\n",
       "      <td>2017</td>\n",
       "      <td>Taiwan</td>\n",
       "      <td>NaN</td>\n",
       "      <td>33</td>\n",
       "      <td>6.422</td>\n",
       "      <td>1.433627</td>\n",
       "      <td>1.384565</td>\n",
       "      <td>0.793984</td>\n",
       "      <td>0.361467</td>\n",
       "      <td>0.25836</td>\n",
       "      <td>0.063829</td>\n",
       "    </tr>\n",
       "    <tr>\n",
       "      <th>501</th>\n",
       "      <td>2016</td>\n",
       "      <td>Taiwan</td>\n",
       "      <td>Eastern Asia</td>\n",
       "      <td>34</td>\n",
       "      <td>6.379</td>\n",
       "      <td>1.397290</td>\n",
       "      <td>0.926240</td>\n",
       "      <td>0.795650</td>\n",
       "      <td>0.323770</td>\n",
       "      <td>0.25495</td>\n",
       "      <td>0.066300</td>\n",
       "    </tr>\n",
       "    <tr>\n",
       "      <th>661</th>\n",
       "      <td>2015</td>\n",
       "      <td>Taiwan</td>\n",
       "      <td>Eastern Asia</td>\n",
       "      <td>38</td>\n",
       "      <td>6.298</td>\n",
       "      <td>1.290980</td>\n",
       "      <td>1.076170</td>\n",
       "      <td>0.875300</td>\n",
       "      <td>0.397400</td>\n",
       "      <td>0.25376</td>\n",
       "      <td>0.081290</td>\n",
       "    </tr>\n",
       "  </tbody>\n",
       "</table>\n",
       "</div>"
      ],
      "text/plain": [
       "     Year Country        Region  Overall rank  Happiness score  \\\n",
       "24   2019  Taiwan  Eastern Asia            25            6.446   \n",
       "181  2018  Taiwan  Eastern Asia            26            6.441   \n",
       "344  2017  Taiwan           NaN            33            6.422   \n",
       "501  2016  Taiwan  Eastern Asia            34            6.379   \n",
       "661  2015  Taiwan  Eastern Asia            38            6.298   \n",
       "\n",
       "     GDP per capita  Social support  Healthy life expectancy  \\\n",
       "24         1.368000        1.430000                 0.914000   \n",
       "181        1.365000        1.436000                 0.857000   \n",
       "344        1.433627        1.384565                 0.793984   \n",
       "501        1.397290        0.926240                 0.795650   \n",
       "661        1.290980        1.076170                 0.875300   \n",
       "\n",
       "     Freedom to make life choices  Generosity  Perceptions of corruption  \n",
       "24                       0.351000     0.24200                   0.097000  \n",
       "181                      0.418000     0.15100                   0.078000  \n",
       "344                      0.361467     0.25836                   0.063829  \n",
       "501                      0.323770     0.25495                   0.066300  \n",
       "661                      0.397400     0.25376                   0.081290  "
      ]
     },
     "execution_count": 74,
     "metadata": {},
     "output_type": "execute_result"
    }
   ],
   "source": [
    "dfall.loc[dfall['Country'] == 'Taiwan']"
   ]
  },
  {
   "cell_type": "markdown",
   "id": "fb384b7e",
   "metadata": {},
   "source": [
    "##### 'Region'"
   ]
  },
  {
   "cell_type": "code",
   "execution_count": 75,
   "id": "6c5ca646",
   "metadata": {
    "scrolled": true
   },
   "outputs": [
    {
     "data": {
      "text/plain": [
       "Sub-Saharan Africa                 195\n",
       "Central and Eastern Europe         144\n",
       "Latin America and Caribbean        109\n",
       "Western Europe                     103\n",
       "Middle East and Northern Africa     96\n",
       "Southeastern Asia                   44\n",
       "Southern Asia                       35\n",
       "Eastern Asia                        28\n",
       "Australia and New Zealand           10\n",
       "North America                       10\n",
       "NaN                                  8\n",
       "Name: Region, dtype: int64"
      ]
     },
     "execution_count": 75,
     "metadata": {},
     "output_type": "execute_result"
    }
   ],
   "source": [
    "# Frequency distribution\n",
    "\n",
    "dfall['Region'].value_counts(dropna=False)      ## 8 missing values"
   ]
  },
  {
   "cell_type": "code",
   "execution_count": 76,
   "id": "e0dcc7ba",
   "metadata": {},
   "outputs": [
    {
     "data": {
      "text/html": [
       "<div>\n",
       "<style scoped>\n",
       "    .dataframe tbody tr th:only-of-type {\n",
       "        vertical-align: middle;\n",
       "    }\n",
       "\n",
       "    .dataframe tbody tr th {\n",
       "        vertical-align: top;\n",
       "    }\n",
       "\n",
       "    .dataframe thead th {\n",
       "        text-align: right;\n",
       "    }\n",
       "</style>\n",
       "<table border=\"1\" class=\"dataframe\">\n",
       "  <thead>\n",
       "    <tr style=\"text-align: right;\">\n",
       "      <th></th>\n",
       "      <th>Year</th>\n",
       "      <th>Country</th>\n",
       "      <th>Region</th>\n",
       "      <th>Overall rank</th>\n",
       "      <th>Happiness score</th>\n",
       "      <th>GDP per capita</th>\n",
       "      <th>Social support</th>\n",
       "      <th>Healthy life expectancy</th>\n",
       "      <th>Freedom to make life choices</th>\n",
       "      <th>Generosity</th>\n",
       "      <th>Perceptions of corruption</th>\n",
       "    </tr>\n",
       "  </thead>\n",
       "  <tbody>\n",
       "    <tr>\n",
       "      <th>38</th>\n",
       "      <td>2019</td>\n",
       "      <td>Trinidad &amp; Tobago</td>\n",
       "      <td>NaN</td>\n",
       "      <td>39</td>\n",
       "      <td>6.192</td>\n",
       "      <td>1.231000</td>\n",
       "      <td>1.477000</td>\n",
       "      <td>0.713000</td>\n",
       "      <td>0.489000</td>\n",
       "      <td>0.185000</td>\n",
       "      <td>0.016000</td>\n",
       "    </tr>\n",
       "    <tr>\n",
       "      <th>63</th>\n",
       "      <td>2019</td>\n",
       "      <td>Northern Cyprus</td>\n",
       "      <td>NaN</td>\n",
       "      <td>64</td>\n",
       "      <td>5.718</td>\n",
       "      <td>1.263000</td>\n",
       "      <td>1.252000</td>\n",
       "      <td>1.042000</td>\n",
       "      <td>0.417000</td>\n",
       "      <td>0.191000</td>\n",
       "      <td>0.162000</td>\n",
       "    </tr>\n",
       "    <tr>\n",
       "      <th>83</th>\n",
       "      <td>2019</td>\n",
       "      <td>North Macedonia</td>\n",
       "      <td>NaN</td>\n",
       "      <td>84</td>\n",
       "      <td>5.274</td>\n",
       "      <td>0.983000</td>\n",
       "      <td>1.294000</td>\n",
       "      <td>0.838000</td>\n",
       "      <td>0.345000</td>\n",
       "      <td>0.185000</td>\n",
       "      <td>0.034000</td>\n",
       "    </tr>\n",
       "    <tr>\n",
       "      <th>119</th>\n",
       "      <td>2019</td>\n",
       "      <td>Gambia</td>\n",
       "      <td>NaN</td>\n",
       "      <td>120</td>\n",
       "      <td>4.516</td>\n",
       "      <td>0.308000</td>\n",
       "      <td>0.939000</td>\n",
       "      <td>0.428000</td>\n",
       "      <td>0.382000</td>\n",
       "      <td>0.269000</td>\n",
       "      <td>0.167000</td>\n",
       "    </tr>\n",
       "    <tr>\n",
       "      <th>193</th>\n",
       "      <td>2018</td>\n",
       "      <td>Trinidad &amp; Tobago</td>\n",
       "      <td>NaN</td>\n",
       "      <td>38</td>\n",
       "      <td>6.192</td>\n",
       "      <td>1.223000</td>\n",
       "      <td>1.492000</td>\n",
       "      <td>0.564000</td>\n",
       "      <td>0.575000</td>\n",
       "      <td>0.171000</td>\n",
       "      <td>0.019000</td>\n",
       "    </tr>\n",
       "    <tr>\n",
       "      <th>213</th>\n",
       "      <td>2018</td>\n",
       "      <td>Northern Cyprus</td>\n",
       "      <td>NaN</td>\n",
       "      <td>58</td>\n",
       "      <td>5.835</td>\n",
       "      <td>1.229000</td>\n",
       "      <td>1.211000</td>\n",
       "      <td>0.909000</td>\n",
       "      <td>0.495000</td>\n",
       "      <td>0.179000</td>\n",
       "      <td>0.154000</td>\n",
       "    </tr>\n",
       "    <tr>\n",
       "      <th>344</th>\n",
       "      <td>2017</td>\n",
       "      <td>Taiwan</td>\n",
       "      <td>NaN</td>\n",
       "      <td>33</td>\n",
       "      <td>6.422</td>\n",
       "      <td>1.433627</td>\n",
       "      <td>1.384565</td>\n",
       "      <td>0.793984</td>\n",
       "      <td>0.361467</td>\n",
       "      <td>0.258360</td>\n",
       "      <td>0.063829</td>\n",
       "    </tr>\n",
       "    <tr>\n",
       "      <th>382</th>\n",
       "      <td>2017</td>\n",
       "      <td>Hong Kong</td>\n",
       "      <td>NaN</td>\n",
       "      <td>71</td>\n",
       "      <td>5.472</td>\n",
       "      <td>1.551675</td>\n",
       "      <td>1.262791</td>\n",
       "      <td>0.943062</td>\n",
       "      <td>0.490969</td>\n",
       "      <td>0.374466</td>\n",
       "      <td>0.293934</td>\n",
       "    </tr>\n",
       "  </tbody>\n",
       "</table>\n",
       "</div>"
      ],
      "text/plain": [
       "     Year            Country Region  Overall rank  Happiness score  \\\n",
       "38   2019  Trinidad & Tobago    NaN            39            6.192   \n",
       "63   2019    Northern Cyprus    NaN            64            5.718   \n",
       "83   2019    North Macedonia    NaN            84            5.274   \n",
       "119  2019             Gambia    NaN           120            4.516   \n",
       "193  2018  Trinidad & Tobago    NaN            38            6.192   \n",
       "213  2018    Northern Cyprus    NaN            58            5.835   \n",
       "344  2017             Taiwan    NaN            33            6.422   \n",
       "382  2017          Hong Kong    NaN            71            5.472   \n",
       "\n",
       "     GDP per capita  Social support  Healthy life expectancy  \\\n",
       "38         1.231000        1.477000                 0.713000   \n",
       "63         1.263000        1.252000                 1.042000   \n",
       "83         0.983000        1.294000                 0.838000   \n",
       "119        0.308000        0.939000                 0.428000   \n",
       "193        1.223000        1.492000                 0.564000   \n",
       "213        1.229000        1.211000                 0.909000   \n",
       "344        1.433627        1.384565                 0.793984   \n",
       "382        1.551675        1.262791                 0.943062   \n",
       "\n",
       "     Freedom to make life choices  Generosity  Perceptions of corruption  \n",
       "38                       0.489000    0.185000                   0.016000  \n",
       "63                       0.417000    0.191000                   0.162000  \n",
       "83                       0.345000    0.185000                   0.034000  \n",
       "119                      0.382000    0.269000                   0.167000  \n",
       "193                      0.575000    0.171000                   0.019000  \n",
       "213                      0.495000    0.179000                   0.154000  \n",
       "344                      0.361467    0.258360                   0.063829  \n",
       "382                      0.490969    0.374466                   0.293934  "
      ]
     },
     "execution_count": 76,
     "metadata": {},
     "output_type": "execute_result"
    }
   ],
   "source": [
    "df_nan = dfall[dfall['Region'].isnull() == True]\n",
    "df_nan"
   ]
  },
  {
   "cell_type": "code",
   "execution_count": 77,
   "id": "77597f87",
   "metadata": {},
   "outputs": [
    {
     "data": {
      "text/plain": [
       "Sub-Saharan Africa                 195\n",
       "Central and Eastern Europe         144\n",
       "Latin America and Caribbean        109\n",
       "Western Europe                     103\n",
       "Middle East and Northern Africa     96\n",
       "Southeastern Asia                   44\n",
       "Southern Asia                       35\n",
       "Eastern Asia                        28\n",
       "Australia and New Zealand           10\n",
       "North America                       10\n",
       "NaN                                  8\n",
       "Name: Region, dtype: int64"
      ]
     },
     "execution_count": 77,
     "metadata": {},
     "output_type": "execute_result"
    }
   ],
   "source": [
    "dfall['Region'].value_counts(dropna=False)\n",
    "\n",
    "## Trinidad & Tobago : Latin America and Caribbean\n",
    "## Northern Cyprus : Middle East and Northern Africa\n",
    "## North Macedonia : Central and Eastern Europe\n",
    "## Gambia : Sub-Saharan Africa\n",
    "## Taiwan : Eastern Asia\n",
    "## Hong Kong: Eastern Asia"
   ]
  },
  {
   "cell_type": "code",
   "execution_count": 78,
   "id": "6fe72fc7",
   "metadata": {},
   "outputs": [],
   "source": [
    "dfall.loc[dfall['Country'] == 'Trinidad & Tobago', 'Region'] = 'Latin America and Caribbean'"
   ]
  },
  {
   "cell_type": "code",
   "execution_count": 79,
   "id": "4ee5900b",
   "metadata": {},
   "outputs": [],
   "source": [
    "dfall.loc[dfall['Country'] == 'Northern Cyprus', 'Region'] = 'Middle East and Northern Africa'"
   ]
  },
  {
   "cell_type": "code",
   "execution_count": 80,
   "id": "d5109b67",
   "metadata": {},
   "outputs": [],
   "source": [
    "dfall.loc[dfall['Country'] == 'North Macedonia', 'Region'] = 'Central and Eastern Europe'"
   ]
  },
  {
   "cell_type": "code",
   "execution_count": 81,
   "id": "6f3fc29a",
   "metadata": {},
   "outputs": [],
   "source": [
    "dfall.loc[dfall['Country'] == 'Gambia', 'Region'] = 'Sub-Saharan Africa'"
   ]
  },
  {
   "cell_type": "code",
   "execution_count": 82,
   "id": "01f606de",
   "metadata": {},
   "outputs": [],
   "source": [
    "dfall.loc[dfall['Country'] == 'Taiwan', 'Region'] = 'Eastern Asia'"
   ]
  },
  {
   "cell_type": "code",
   "execution_count": 83,
   "id": "ea1aace6",
   "metadata": {},
   "outputs": [],
   "source": [
    "dfall.loc[dfall['Country'] == 'Hong Kong', 'Region'] = 'Eastern Asia'"
   ]
  },
  {
   "cell_type": "code",
   "execution_count": 84,
   "id": "7066abeb",
   "metadata": {},
   "outputs": [
    {
     "data": {
      "text/plain": [
       "Sub-Saharan Africa                 196\n",
       "Central and Eastern Europe         145\n",
       "Latin America and Caribbean        111\n",
       "Western Europe                     103\n",
       "Middle East and Northern Africa     98\n",
       "Southeastern Asia                   44\n",
       "Southern Asia                       35\n",
       "Eastern Asia                        30\n",
       "Australia and New Zealand           10\n",
       "North America                       10\n",
       "Name: Region, dtype: int64"
      ]
     },
     "execution_count": 84,
     "metadata": {},
     "output_type": "execute_result"
    }
   ],
   "source": [
    "dfall['Region'].value_counts(dropna=False)"
   ]
  },
  {
   "cell_type": "code",
   "execution_count": 85,
   "id": "e7f97571",
   "metadata": {},
   "outputs": [],
   "source": [
    "dfall['Region'].value_counts(dropna=False).to_clipboard()"
   ]
  },
  {
   "cell_type": "markdown",
   "id": "7429933f",
   "metadata": {},
   "source": [
    "###"
   ]
  },
  {
   "cell_type": "code",
   "execution_count": 86,
   "id": "3ca97a94",
   "metadata": {},
   "outputs": [
    {
     "data": {
      "text/plain": [
       "<matplotlib.legend.Legend at 0x7f9eb8e0ef70>"
      ]
     },
     "execution_count": 86,
     "metadata": {},
     "output_type": "execute_result"
    },
    {
     "data": {
      "image/png": "[encoded data removed]",
      "text/plain": [
       "<Figure size 640x480 with 1 Axes>"
      ]
     },
     "metadata": {},
     "output_type": "display_data"
    }
   ],
   "source": [
    "# Frequency distribution Region\n",
    "\n",
    "region_distr=dfall['Region'].value_counts().sort_index().plot.bar()\n",
    "\n",
    "# Add title to plot\n",
    "plt.legend(['2015 - 2019'], title='Distribution per Region')"
   ]
  },
  {
   "cell_type": "code",
   "execution_count": 87,
   "id": "03ae9665",
   "metadata": {},
   "outputs": [],
   "source": [
    "region_distr.figure.savefig(os.path.join(path, '04_Analysis','Visualizations', 'region_distr.png'))"
   ]
  },
  {
   "cell_type": "markdown",
   "id": "e5a90642",
   "metadata": {},
   "source": [
    "##### 'Overall rank'"
   ]
  },
  {
   "cell_type": "code",
   "execution_count": 88,
   "id": "3ad8661a",
   "metadata": {
    "scrolled": true
   },
   "outputs": [
    {
     "data": {
      "text/plain": [
       "57     6\n",
       "82     6\n",
       "34     6\n",
       "145    6\n",
       "1      5\n",
       "      ..\n",
       "35     4\n",
       "83     4\n",
       "156    4\n",
       "157    2\n",
       "158    1\n",
       "Name: Overall rank, Length: 158, dtype: int64"
      ]
     },
     "execution_count": 88,
     "metadata": {},
     "output_type": "execute_result"
    }
   ],
   "source": [
    "# Frequency distribution\n",
    "\n",
    "dfall['Overall rank'].value_counts(dropna=False) \n",
    "\n",
    "# Inconsistencies found in frequencies, further drilling in section: \"7. Addressing Inconsistenies\"                                                                             # 7.Additional Data Cleaning "
   ]
  },
  {
   "cell_type": "code",
   "execution_count": 89,
   "id": "69ec3e91",
   "metadata": {},
   "outputs": [],
   "source": [
    "dfall['Overall rank'].value_counts(dropna=False).to_clipboard()"
   ]
  },
  {
   "cell_type": "markdown",
   "id": "d172e5ce",
   "metadata": {},
   "source": [
    "##### 'Happiness score'"
   ]
  },
  {
   "cell_type": "code",
   "execution_count": 90,
   "id": "b43ea046",
   "metadata": {
    "scrolled": true
   },
   "outputs": [
    {
     "data": {
      "text/plain": [
       "4.350    3\n",
       "6.379    3\n",
       "5.129    3\n",
       "5.890    3\n",
       "5.835    3\n",
       "        ..\n",
       "4.441    1\n",
       "4.433    1\n",
       "4.424    1\n",
       "4.417    1\n",
       "2.839    1\n",
       "Name: Happiness score, Length: 716, dtype: int64"
      ]
     },
     "execution_count": 90,
     "metadata": {},
     "output_type": "execute_result"
    }
   ],
   "source": [
    "# Frequency distribution\n",
    "\n",
    "dfall['Happiness score'].value_counts(dropna=False)"
   ]
  },
  {
   "cell_type": "code",
   "execution_count": 91,
   "id": "b3b8b698",
   "metadata": {
    "scrolled": true
   },
   "outputs": [
    {
     "name": "stdout",
     "output_type": "stream",
     "text": [
      "     Year      Country                           Region  Overall rank  \\\n",
      "0    2019      Finland                   Western Europe             1   \n",
      "1    2019      Denmark                   Western Europe             2   \n",
      "2    2019       Norway                   Western Europe             3   \n",
      "3    2019      Iceland                   Western Europe             4   \n",
      "4    2019  Netherlands                   Western Europe             5   \n",
      "..    ...          ...                              ...           ...   \n",
      "777  2015       Rwanda               Sub-Saharan Africa           154   \n",
      "778  2015        Benin               Sub-Saharan Africa           155   \n",
      "779  2015        Syria  Middle East and Northern Africa           156   \n",
      "780  2015      Burundi               Sub-Saharan Africa           157   \n",
      "781  2015         Togo               Sub-Saharan Africa           158   \n",
      "\n",
      "     Happiness score  GDP per capita  Social support  Healthy life expectancy  \\\n",
      "0              7.769         1.34000         1.58700                  0.98600   \n",
      "1              7.600         1.38300         1.57300                  0.99600   \n",
      "2              7.554         1.48800         1.58200                  1.02800   \n",
      "3              7.494         1.38000         1.62400                  1.02600   \n",
      "4              7.488         1.39600         1.52200                  0.99900   \n",
      "..               ...             ...             ...                      ...   \n",
      "777            3.465         0.22208         0.77370                  0.42864   \n",
      "778            3.340         0.28665         0.35386                  0.31910   \n",
      "779            3.006         0.66320         0.47489                  0.72193   \n",
      "780            2.905         0.01530         0.41587                  0.22396   \n",
      "781            2.839         0.20868         0.13995                  0.28443   \n",
      "\n",
      "     Freedom to make life choices  Generosity  Perceptions of corruption  \n",
      "0                         0.59600     0.15300                    0.39300  \n",
      "1                         0.59200     0.25200                    0.41000  \n",
      "2                         0.60300     0.27100                    0.34100  \n",
      "3                         0.59100     0.35400                    0.11800  \n",
      "4                         0.55700     0.32200                    0.29800  \n",
      "..                            ...         ...                        ...  \n",
      "777                       0.59201     0.22628                    0.55191  \n",
      "778                       0.48450     0.18260                    0.08010  \n",
      "779                       0.15684     0.47179                    0.18906  \n",
      "780                       0.11850     0.19727                    0.10062  \n",
      "781                       0.36453     0.16681                    0.10731  \n",
      "\n",
      "[782 rows x 11 columns]\n"
     ]
    },
    {
     "data": {
      "text/plain": [
       "Text(0.5, 0, 'Scores between 0 to 10')"
      ]
     },
     "execution_count": 91,
     "metadata": {},
     "output_type": "execute_result"
    },
    {
     "data": {
      "image/png": "[encoded data removed]",
      "text/plain": [
       "<Figure size 640x480 with 1 Axes>"
      ]
     },
     "metadata": {},
     "output_type": "display_data"
    }
   ],
   "source": [
    "# Plot distribution of values\n",
    "\n",
    "dfall['Happiness score'].plot(kind='kde')\n",
    "print(dfall)\n",
    "\n",
    "# Add title to plot\n",
    "plt.legend(['2015 - 2019'], title='Overall Happiness Score')\n",
    "\n",
    "# Add x-axis label\n",
    "plt.xlabel('Scores between 0 to 10') "
   ]
  },
  {
   "cell_type": "code",
   "execution_count": 92,
   "id": "c2008256",
   "metadata": {
    "scrolled": true
   },
   "outputs": [
    {
     "name": "stdout",
     "output_type": "stream",
     "text": [
      "     Year      Country                           Region  Overall rank  \\\n",
      "0    2019      Finland                   Western Europe             1   \n",
      "1    2019      Denmark                   Western Europe             2   \n",
      "2    2019       Norway                   Western Europe             3   \n",
      "3    2019      Iceland                   Western Europe             4   \n",
      "4    2019  Netherlands                   Western Europe             5   \n",
      "..    ...          ...                              ...           ...   \n",
      "777  2015       Rwanda               Sub-Saharan Africa           154   \n",
      "778  2015        Benin               Sub-Saharan Africa           155   \n",
      "779  2015        Syria  Middle East and Northern Africa           156   \n",
      "780  2015      Burundi               Sub-Saharan Africa           157   \n",
      "781  2015         Togo               Sub-Saharan Africa           158   \n",
      "\n",
      "     Happiness score  GDP per capita  Social support  Healthy life expectancy  \\\n",
      "0              7.769         1.34000         1.58700                  0.98600   \n",
      "1              7.600         1.38300         1.57300                  0.99600   \n",
      "2              7.554         1.48800         1.58200                  1.02800   \n",
      "3              7.494         1.38000         1.62400                  1.02600   \n",
      "4              7.488         1.39600         1.52200                  0.99900   \n",
      "..               ...             ...             ...                      ...   \n",
      "777            3.465         0.22208         0.77370                  0.42864   \n",
      "778            3.340         0.28665         0.35386                  0.31910   \n",
      "779            3.006         0.66320         0.47489                  0.72193   \n",
      "780            2.905         0.01530         0.41587                  0.22396   \n",
      "781            2.839         0.20868         0.13995                  0.28443   \n",
      "\n",
      "     Freedom to make life choices  Generosity  Perceptions of corruption  \n",
      "0                         0.59600     0.15300                    0.39300  \n",
      "1                         0.59200     0.25200                    0.41000  \n",
      "2                         0.60300     0.27100                    0.34100  \n",
      "3                         0.59100     0.35400                    0.11800  \n",
      "4                         0.55700     0.32200                    0.29800  \n",
      "..                            ...         ...                        ...  \n",
      "777                       0.59201     0.22628                    0.55191  \n",
      "778                       0.48450     0.18260                    0.08010  \n",
      "779                       0.15684     0.47179                    0.18906  \n",
      "780                       0.11850     0.19727                    0.10062  \n",
      "781                       0.36453     0.16681                    0.10731  \n",
      "\n",
      "[782 rows x 11 columns]\n"
     ]
    },
    {
     "data": {
      "text/plain": [
       "Text(0.5, 0, 'Scores between 0 to 10')"
      ]
     },
     "execution_count": 92,
     "metadata": {},
     "output_type": "execute_result"
    },
    {
     "data": {
      "image/png": "[encoded data removed]",
      "text/plain": [
       "<Figure size 640x480 with 1 Axes>"
      ]
     },
     "metadata": {},
     "output_type": "display_data"
    }
   ],
   "source": [
    "# Plot distribution .grouby 'Year'\n",
    "\n",
    "dfall.groupby('Year')['Happiness score'].plot(kind='kde')\n",
    "print(dfall)\n",
    "\n",
    "# Add legend to plot\n",
    "plt.legend(['2015', '2016','2017','2018','2019'], title='Happiness Scores')\n",
    "\n",
    "# Add x-axis label\n",
    "plt.xlabel('Scores between 0 to 10')     \n",
    "\n",
    "## The range has basically stayed the same over the years, with median fluctuating."
   ]
  },
  {
   "cell_type": "markdown",
   "id": "236e475d",
   "metadata": {},
   "source": [
    "##### 'GDP per capita'"
   ]
  },
  {
   "cell_type": "code",
   "execution_count": 93,
   "id": "af5379df",
   "metadata": {
    "scrolled": false
   },
   "outputs": [
    {
     "data": {
      "text/plain": [
       "<matplotlib.legend.Legend at 0x7f9eb8fe4f10>"
      ]
     },
     "execution_count": 93,
     "metadata": {},
     "output_type": "execute_result"
    },
    {
     "data": {
      "image/png": "[encoded data removed]",
      "text/plain": [
       "<Figure size 640x480 with 1 Axes>"
      ]
     },
     "metadata": {},
     "output_type": "display_data"
    }
   ],
   "source": [
    "# Plot distribution of values\n",
    "\n",
    "gdp_histo=dfall['GDP per capita'].plot.hist(color='steelblue', bins = 70)\n",
    "\n",
    "# Add title to plot\n",
    "plt.legend(['2015 - 2019'], title='GDP per capita')\n"
   ]
  },
  {
   "cell_type": "code",
   "execution_count": 94,
   "id": "c81e5c02",
   "metadata": {},
   "outputs": [],
   "source": [
    "# Export Visualization\n",
    "\n",
    "gdp_histo.figure.savefig(os.path.join(path, '04_Analysis','Visualizations', 'gdp_histo.png'))"
   ]
  },
  {
   "cell_type": "markdown",
   "id": "bf026f97",
   "metadata": {},
   "source": [
    "##### 'Social support'"
   ]
  },
  {
   "cell_type": "code",
   "execution_count": 95,
   "id": "eb70ac7e",
   "metadata": {
    "scrolled": true
   },
   "outputs": [
    {
     "data": {
      "text/plain": [
       "0.000000    5\n",
       "1.538000    3\n",
       "1.438000    3\n",
       "1.410000    3\n",
       "1.504000    3\n",
       "           ..\n",
       "1.428939    1\n",
       "1.481349    1\n",
       "1.548195    1\n",
       "1.478162    1\n",
       "0.139950    1\n",
       "Name: Social support, Length: 732, dtype: int64"
      ]
     },
     "execution_count": 95,
     "metadata": {},
     "output_type": "execute_result"
    }
   ],
   "source": [
    "dfall['Social support'].value_counts(dropna=False)"
   ]
  },
  {
   "cell_type": "code",
   "execution_count": 96,
   "id": "b2239680",
   "metadata": {
    "scrolled": true
   },
   "outputs": [
    {
     "data": {
      "text/plain": [
       "<matplotlib.legend.Legend at 0x7f9eb99698b0>"
      ]
     },
     "execution_count": 96,
     "metadata": {},
     "output_type": "execute_result"
    },
    {
     "data": {
      "image/png": "[encoded data removed]",
      "text/plain": [
       "<Figure size 640x480 with 1 Axes>"
      ]
     },
     "metadata": {},
     "output_type": "display_data"
    }
   ],
   "source": [
    "# Plot distribution of values\n",
    "\n",
    "social_supp_histo=dfall['Social support'].plot.hist(color='orange', bins = 70)\n",
    "\n",
    "# Add title to plot\n",
    "plt.legend(['2015 - 2019'], title='Social support')"
   ]
  },
  {
   "cell_type": "code",
   "execution_count": 97,
   "id": "441f741b",
   "metadata": {},
   "outputs": [],
   "source": [
    "# Export Visualization\n",
    "\n",
    "social_supp_histo.figure.savefig(os.path.join(path, '04_Analysis','Visualizations', 'social_histo.png'))"
   ]
  },
  {
   "cell_type": "markdown",
   "id": "1d020cc0",
   "metadata": {},
   "source": [
    "##### 'Healthy life expectancy'"
   ]
  },
  {
   "cell_type": "code",
   "execution_count": 98,
   "id": "c228fdee",
   "metadata": {
    "scrolled": true
   },
   "outputs": [
    {
     "data": {
      "text/plain": [
       "0.000000    5\n",
       "0.999000    5\n",
       "0.815000    5\n",
       "0.828000    4\n",
       "0.874000    4\n",
       "           ..\n",
       "0.540240    1\n",
       "0.706156    1\n",
       "0.844466    1\n",
       "0.647239    1\n",
       "0.284430    1\n",
       "Name: Healthy life expectancy, Length: 705, dtype: int64"
      ]
     },
     "execution_count": 98,
     "metadata": {},
     "output_type": "execute_result"
    }
   ],
   "source": [
    "dfall['Healthy life expectancy'].value_counts(dropna=False)"
   ]
  },
  {
   "cell_type": "code",
   "execution_count": 99,
   "id": "e22d8d84",
   "metadata": {
    "scrolled": true
   },
   "outputs": [
    {
     "data": {
      "text/plain": [
       "<matplotlib.legend.Legend at 0x7f9eb9c0ef70>"
      ]
     },
     "execution_count": 99,
     "metadata": {},
     "output_type": "execute_result"
    },
    {
     "data": {
      "image/png": "[encoded data removed]",
      "text/plain": [
       "<Figure size 640x480 with 1 Axes>"
      ]
     },
     "metadata": {},
     "output_type": "display_data"
    }
   ],
   "source": [
    "# Plot distribution of values\n",
    "\n",
    "life_expectency_histo=dfall['Healthy life expectancy'].plot.hist(color='grey', bins = 20)\n",
    "\n",
    "# Add title to plot\n",
    "plt.legend(['2015 - 2019'], title='Healthy life expectancy')"
   ]
  },
  {
   "cell_type": "code",
   "execution_count": 100,
   "id": "f56314e7",
   "metadata": {},
   "outputs": [],
   "source": [
    "# Export Visualization\n",
    "\n",
    "life_expectency_histo.figure.savefig(os.path.join(path, '04_Analysis','Visualizations', 'life_expectency_histo.png'))"
   ]
  },
  {
   "cell_type": "markdown",
   "id": "b3ff3c00",
   "metadata": {},
   "source": [
    "##### Freedom to make life choices"
   ]
  },
  {
   "cell_type": "code",
   "execution_count": 101,
   "id": "bd2f1f3b",
   "metadata": {
    "scrolled": true
   },
   "outputs": [
    {
     "data": {
      "text/plain": [
       "<matplotlib.legend.Legend at 0x7f9eb9c15d90>"
      ]
     },
     "execution_count": 101,
     "metadata": {},
     "output_type": "execute_result"
    },
    {
     "data": {
      "image/png": "[encoded data removed]",
      "text/plain": [
       "<Figure size 640x480 with 1 Axes>"
      ]
     },
     "metadata": {},
     "output_type": "display_data"
    }
   ],
   "source": [
    "# Plot distribution of values\n",
    "\n",
    "freedom_histo=dfall['Freedom to make life choices'].plot.hist(color='darkgreen', bins = 50)\n",
    "\n",
    "# Add title to plot\n",
    "plt.legend(['2015 - 2019'], title='Freedom to make life choices')"
   ]
  },
  {
   "cell_type": "code",
   "execution_count": 102,
   "id": "bdbcfc91",
   "metadata": {},
   "outputs": [],
   "source": [
    "# Export Visualization\n",
    "\n",
    "freedom_histo.figure.savefig(os.path.join(path, '04_Analysis','Visualizations', 'freedom_histo.png'))"
   ]
  },
  {
   "cell_type": "markdown",
   "id": "f53c14ba",
   "metadata": {},
   "source": [
    "##### 'Generosity'"
   ]
  },
  {
   "cell_type": "code",
   "execution_count": 103,
   "id": "e1018b09",
   "metadata": {},
   "outputs": [
    {
     "data": {
      "text/plain": [
       "<matplotlib.legend.Legend at 0x7f9eb9fe42b0>"
      ]
     },
     "execution_count": 103,
     "metadata": {},
     "output_type": "execute_result"
    },
    {
     "data": {
      "image/png": "[encoded data removed]",
      "text/plain": [
       "<Figure size 640x480 with 1 Axes>"
      ]
     },
     "metadata": {},
     "output_type": "display_data"
    }
   ],
   "source": [
    "# Plot distribution of values\n",
    "\n",
    "generosity_histo=dfall['Generosity'].plot.hist(color='darkblue', bins = 50)\n",
    "\n",
    "# Add title to plot\n",
    "plt.legend(['2015 - 2019'], title='Generosity: donation to charity')"
   ]
  },
  {
   "cell_type": "code",
   "execution_count": 104,
   "id": "faf52d10",
   "metadata": {},
   "outputs": [],
   "source": [
    "# Export Visualization\n",
    "\n",
    "generosity_histo.figure.savefig(os.path.join(path, '04_Analysis','Visualizations', 'generosity_histo.png'))"
   ]
  },
  {
   "cell_type": "markdown",
   "id": "69d71d35",
   "metadata": {},
   "source": [
    "##### 'Perceptions of corruption'"
   ]
  },
  {
   "cell_type": "code",
   "execution_count": 105,
   "id": "2b2678a8",
   "metadata": {},
   "outputs": [
    {
     "data": {
      "text/plain": [
       "0.082000    7\n",
       "0.064000    6\n",
       "0.028000    6\n",
       "0.034000    6\n",
       "0.000000    6\n",
       "           ..\n",
       "0.064491    1\n",
       "0.015317    1\n",
       "0.124348    1\n",
       "0.022794    1\n",
       "0.107310    1\n",
       "Name: Perceptions of corruption, Length: 636, dtype: int64"
      ]
     },
     "execution_count": 105,
     "metadata": {},
     "output_type": "execute_result"
    }
   ],
   "source": [
    "dfall['Perceptions of corruption'].value_counts(dropna=False)"
   ]
  },
  {
   "cell_type": "code",
   "execution_count": 106,
   "id": "675ff019",
   "metadata": {},
   "outputs": [
    {
     "data": {
      "text/html": [
       "<div>\n",
       "<style scoped>\n",
       "    .dataframe tbody tr th:only-of-type {\n",
       "        vertical-align: middle;\n",
       "    }\n",
       "\n",
       "    .dataframe tbody tr th {\n",
       "        vertical-align: top;\n",
       "    }\n",
       "\n",
       "    .dataframe thead th {\n",
       "        text-align: right;\n",
       "    }\n",
       "</style>\n",
       "<table border=\"1\" class=\"dataframe\">\n",
       "  <thead>\n",
       "    <tr style=\"text-align: right;\">\n",
       "      <th></th>\n",
       "      <th>Year</th>\n",
       "      <th>Country</th>\n",
       "      <th>Region</th>\n",
       "      <th>Overall rank</th>\n",
       "      <th>Happiness score</th>\n",
       "      <th>GDP per capita</th>\n",
       "      <th>Social support</th>\n",
       "      <th>Healthy life expectancy</th>\n",
       "      <th>Freedom to make life choices</th>\n",
       "      <th>Generosity</th>\n",
       "      <th>Perceptions of corruption</th>\n",
       "    </tr>\n",
       "  </thead>\n",
       "  <tbody>\n",
       "    <tr>\n",
       "      <th>175</th>\n",
       "      <td>2018</td>\n",
       "      <td>United Arab Emirates</td>\n",
       "      <td>Middle East and Northern Africa</td>\n",
       "      <td>20</td>\n",
       "      <td>6.774</td>\n",
       "      <td>2.096</td>\n",
       "      <td>0.776</td>\n",
       "      <td>0.67</td>\n",
       "      <td>0.284</td>\n",
       "      <td>0.186</td>\n",
       "      <td>NaN</td>\n",
       "    </tr>\n",
       "  </tbody>\n",
       "</table>\n",
       "</div>"
      ],
      "text/plain": [
       "     Year               Country                           Region  \\\n",
       "175  2018  United Arab Emirates  Middle East and Northern Africa   \n",
       "\n",
       "     Overall rank  Happiness score  GDP per capita  Social support  \\\n",
       "175            20            6.774           2.096           0.776   \n",
       "\n",
       "     Healthy life expectancy  Freedom to make life choices  Generosity  \\\n",
       "175                     0.67                         0.284       0.186   \n",
       "\n",
       "     Perceptions of corruption  \n",
       "175                        NaN  "
      ]
     },
     "execution_count": 106,
     "metadata": {},
     "output_type": "execute_result"
    }
   ],
   "source": [
    "# Drill into missing value 'Perception of corruption'\n",
    "\n",
    "df_nan2 = dfall[dfall['Perceptions of corruption'].isnull() == True]\n",
    "df_nan2  # Year: 2018, Country: United Arab Emirates"
   ]
  },
  {
   "cell_type": "code",
   "execution_count": 116,
   "id": "0d644666",
   "metadata": {},
   "outputs": [
    {
     "data": {
      "text/html": [
       "<div>\n",
       "<style scoped>\n",
       "    .dataframe tbody tr th:only-of-type {\n",
       "        vertical-align: middle;\n",
       "    }\n",
       "\n",
       "    .dataframe tbody tr th {\n",
       "        vertical-align: top;\n",
       "    }\n",
       "\n",
       "    .dataframe thead th {\n",
       "        text-align: right;\n",
       "    }\n",
       "</style>\n",
       "<table border=\"1\" class=\"dataframe\">\n",
       "  <thead>\n",
       "    <tr style=\"text-align: right;\">\n",
       "      <th></th>\n",
       "      <th>Year</th>\n",
       "      <th>Country</th>\n",
       "      <th>Region</th>\n",
       "      <th>Overall rank</th>\n",
       "      <th>Happiness score</th>\n",
       "      <th>GDP per capita</th>\n",
       "      <th>Social support</th>\n",
       "      <th>Healthy life expectancy</th>\n",
       "      <th>Freedom to make life choices</th>\n",
       "      <th>Generosity</th>\n",
       "      <th>Perceptions of corruption</th>\n",
       "    </tr>\n",
       "  </thead>\n",
       "  <tbody>\n",
       "    <tr>\n",
       "      <th>20</th>\n",
       "      <td>2019</td>\n",
       "      <td>United Arab Emirates</td>\n",
       "      <td>Middle East and Northern Africa</td>\n",
       "      <td>21</td>\n",
       "      <td>6.825</td>\n",
       "      <td>1.503000</td>\n",
       "      <td>1.31000</td>\n",
       "      <td>0.825000</td>\n",
       "      <td>0.598000</td>\n",
       "      <td>0.262000</td>\n",
       "      <td>0.18200</td>\n",
       "    </tr>\n",
       "    <tr>\n",
       "      <th>175</th>\n",
       "      <td>2018</td>\n",
       "      <td>United Arab Emirates</td>\n",
       "      <td>Middle East and Northern Africa</td>\n",
       "      <td>20</td>\n",
       "      <td>6.774</td>\n",
       "      <td>2.096000</td>\n",
       "      <td>0.77600</td>\n",
       "      <td>0.670000</td>\n",
       "      <td>0.284000</td>\n",
       "      <td>0.186000</td>\n",
       "      <td>NaN</td>\n",
       "    </tr>\n",
       "    <tr>\n",
       "      <th>332</th>\n",
       "      <td>2017</td>\n",
       "      <td>United Arab Emirates</td>\n",
       "      <td>Middle East and Northern Africa</td>\n",
       "      <td>21</td>\n",
       "      <td>6.648</td>\n",
       "      <td>1.626343</td>\n",
       "      <td>1.26641</td>\n",
       "      <td>0.726798</td>\n",
       "      <td>0.608345</td>\n",
       "      <td>0.360942</td>\n",
       "      <td>0.32449</td>\n",
       "    </tr>\n",
       "    <tr>\n",
       "      <th>494</th>\n",
       "      <td>2016</td>\n",
       "      <td>United Arab Emirates</td>\n",
       "      <td>Middle East and Northern Africa</td>\n",
       "      <td>28</td>\n",
       "      <td>6.573</td>\n",
       "      <td>1.573520</td>\n",
       "      <td>0.87114</td>\n",
       "      <td>0.729930</td>\n",
       "      <td>0.562150</td>\n",
       "      <td>0.265910</td>\n",
       "      <td>0.35561</td>\n",
       "    </tr>\n",
       "    <tr>\n",
       "      <th>643</th>\n",
       "      <td>2015</td>\n",
       "      <td>United Arab Emirates</td>\n",
       "      <td>Middle East and Northern Africa</td>\n",
       "      <td>20</td>\n",
       "      <td>6.901</td>\n",
       "      <td>1.427270</td>\n",
       "      <td>1.12575</td>\n",
       "      <td>0.809250</td>\n",
       "      <td>0.641570</td>\n",
       "      <td>0.264280</td>\n",
       "      <td>0.38583</td>\n",
       "    </tr>\n",
       "  </tbody>\n",
       "</table>\n",
       "</div>"
      ],
      "text/plain": [
       "     Year               Country                           Region  \\\n",
       "20   2019  United Arab Emirates  Middle East and Northern Africa   \n",
       "175  2018  United Arab Emirates  Middle East and Northern Africa   \n",
       "332  2017  United Arab Emirates  Middle East and Northern Africa   \n",
       "494  2016  United Arab Emirates  Middle East and Northern Africa   \n",
       "643  2015  United Arab Emirates  Middle East and Northern Africa   \n",
       "\n",
       "     Overall rank  Happiness score  GDP per capita  Social support  \\\n",
       "20             21            6.825        1.503000         1.31000   \n",
       "175            20            6.774        2.096000         0.77600   \n",
       "332            21            6.648        1.626343         1.26641   \n",
       "494            28            6.573        1.573520         0.87114   \n",
       "643            20            6.901        1.427270         1.12575   \n",
       "\n",
       "     Healthy life expectancy  Freedom to make life choices  Generosity  \\\n",
       "20                  0.825000                      0.598000    0.262000   \n",
       "175                 0.670000                      0.284000    0.186000   \n",
       "332                 0.726798                      0.608345    0.360942   \n",
       "494                 0.729930                      0.562150    0.265910   \n",
       "643                 0.809250                      0.641570    0.264280   \n",
       "\n",
       "     Perceptions of corruption  \n",
       "20                     0.18200  \n",
       "175                        NaN  \n",
       "332                    0.32449  \n",
       "494                    0.35561  \n",
       "643                    0.38583  "
      ]
     },
     "execution_count": 116,
     "metadata": {},
     "output_type": "execute_result"
    }
   ],
   "source": [
    "# Print all observations for 'United Arab Emirates'\n",
    "\n",
    "dfall.loc[dfall['Country'] == 'United Arab Emirates']"
   ]
  },
  {
   "cell_type": "markdown",
   "id": "8ac15660",
   "metadata": {},
   "source": [
    "Replace missing value"
   ]
  },
  {
   "cell_type": "code",
   "execution_count": 117,
   "id": "fc3c4da7",
   "metadata": {},
   "outputs": [],
   "source": [
    "# Replace missing value with the average of year 2017 & 2019  [(0.182+0.32449)/2]\n",
    "\n",
    "dfall['Perceptions of corruption'] = dfall['Perceptions of corruption'].fillna(0.25325)"
   ]
  },
  {
   "cell_type": "code",
   "execution_count": 118,
   "id": "afa25099",
   "metadata": {},
   "outputs": [
    {
     "data": {
      "text/html": [
       "<div>\n",
       "<style scoped>\n",
       "    .dataframe tbody tr th:only-of-type {\n",
       "        vertical-align: middle;\n",
       "    }\n",
       "\n",
       "    .dataframe tbody tr th {\n",
       "        vertical-align: top;\n",
       "    }\n",
       "\n",
       "    .dataframe thead th {\n",
       "        text-align: right;\n",
       "    }\n",
       "</style>\n",
       "<table border=\"1\" class=\"dataframe\">\n",
       "  <thead>\n",
       "    <tr style=\"text-align: right;\">\n",
       "      <th></th>\n",
       "      <th>Year</th>\n",
       "      <th>Country</th>\n",
       "      <th>Region</th>\n",
       "      <th>Overall rank</th>\n",
       "      <th>Happiness score</th>\n",
       "      <th>GDP per capita</th>\n",
       "      <th>Social support</th>\n",
       "      <th>Healthy life expectancy</th>\n",
       "      <th>Freedom to make life choices</th>\n",
       "      <th>Generosity</th>\n",
       "      <th>Perceptions of corruption</th>\n",
       "    </tr>\n",
       "  </thead>\n",
       "  <tbody>\n",
       "    <tr>\n",
       "      <th>20</th>\n",
       "      <td>2019</td>\n",
       "      <td>United Arab Emirates</td>\n",
       "      <td>Middle East and Northern Africa</td>\n",
       "      <td>21</td>\n",
       "      <td>6.825</td>\n",
       "      <td>1.503000</td>\n",
       "      <td>1.31000</td>\n",
       "      <td>0.825000</td>\n",
       "      <td>0.598000</td>\n",
       "      <td>0.262000</td>\n",
       "      <td>0.18200</td>\n",
       "    </tr>\n",
       "    <tr>\n",
       "      <th>175</th>\n",
       "      <td>2018</td>\n",
       "      <td>United Arab Emirates</td>\n",
       "      <td>Middle East and Northern Africa</td>\n",
       "      <td>20</td>\n",
       "      <td>6.774</td>\n",
       "      <td>2.096000</td>\n",
       "      <td>0.77600</td>\n",
       "      <td>0.670000</td>\n",
       "      <td>0.284000</td>\n",
       "      <td>0.186000</td>\n",
       "      <td>0.25325</td>\n",
       "    </tr>\n",
       "    <tr>\n",
       "      <th>332</th>\n",
       "      <td>2017</td>\n",
       "      <td>United Arab Emirates</td>\n",
       "      <td>Middle East and Northern Africa</td>\n",
       "      <td>21</td>\n",
       "      <td>6.648</td>\n",
       "      <td>1.626343</td>\n",
       "      <td>1.26641</td>\n",
       "      <td>0.726798</td>\n",
       "      <td>0.608345</td>\n",
       "      <td>0.360942</td>\n",
       "      <td>0.32449</td>\n",
       "    </tr>\n",
       "    <tr>\n",
       "      <th>494</th>\n",
       "      <td>2016</td>\n",
       "      <td>United Arab Emirates</td>\n",
       "      <td>Middle East and Northern Africa</td>\n",
       "      <td>28</td>\n",
       "      <td>6.573</td>\n",
       "      <td>1.573520</td>\n",
       "      <td>0.87114</td>\n",
       "      <td>0.729930</td>\n",
       "      <td>0.562150</td>\n",
       "      <td>0.265910</td>\n",
       "      <td>0.35561</td>\n",
       "    </tr>\n",
       "    <tr>\n",
       "      <th>643</th>\n",
       "      <td>2015</td>\n",
       "      <td>United Arab Emirates</td>\n",
       "      <td>Middle East and Northern Africa</td>\n",
       "      <td>20</td>\n",
       "      <td>6.901</td>\n",
       "      <td>1.427270</td>\n",
       "      <td>1.12575</td>\n",
       "      <td>0.809250</td>\n",
       "      <td>0.641570</td>\n",
       "      <td>0.264280</td>\n",
       "      <td>0.38583</td>\n",
       "    </tr>\n",
       "  </tbody>\n",
       "</table>\n",
       "</div>"
      ],
      "text/plain": [
       "     Year               Country                           Region  \\\n",
       "20   2019  United Arab Emirates  Middle East and Northern Africa   \n",
       "175  2018  United Arab Emirates  Middle East and Northern Africa   \n",
       "332  2017  United Arab Emirates  Middle East and Northern Africa   \n",
       "494  2016  United Arab Emirates  Middle East and Northern Africa   \n",
       "643  2015  United Arab Emirates  Middle East and Northern Africa   \n",
       "\n",
       "     Overall rank  Happiness score  GDP per capita  Social support  \\\n",
       "20             21            6.825        1.503000         1.31000   \n",
       "175            20            6.774        2.096000         0.77600   \n",
       "332            21            6.648        1.626343         1.26641   \n",
       "494            28            6.573        1.573520         0.87114   \n",
       "643            20            6.901        1.427270         1.12575   \n",
       "\n",
       "     Healthy life expectancy  Freedom to make life choices  Generosity  \\\n",
       "20                  0.825000                      0.598000    0.262000   \n",
       "175                 0.670000                      0.284000    0.186000   \n",
       "332                 0.726798                      0.608345    0.360942   \n",
       "494                 0.729930                      0.562150    0.265910   \n",
       "643                 0.809250                      0.641570    0.264280   \n",
       "\n",
       "     Perceptions of corruption  \n",
       "20                     0.18200  \n",
       "175                    0.25325  \n",
       "332                    0.32449  \n",
       "494                    0.35561  \n",
       "643                    0.38583  "
      ]
     },
     "execution_count": 118,
     "metadata": {},
     "output_type": "execute_result"
    }
   ],
   "source": [
    "# CHECK - Print all observations for 'United Arab Emirates'\n",
    "\n",
    "dfall.loc[dfall['Country'] == 'United Arab Emirates']"
   ]
  },
  {
   "cell_type": "markdown",
   "id": "f146ae3b",
   "metadata": {},
   "source": [
    "Plot distribution chart"
   ]
  },
  {
   "cell_type": "code",
   "execution_count": 119,
   "id": "394d376c",
   "metadata": {},
   "outputs": [
    {
     "data": {
      "text/plain": [
       "<matplotlib.legend.Legend at 0x7fc0bf987220>"
      ]
     },
     "execution_count": 119,
     "metadata": {},
     "output_type": "execute_result"
    },
    {
     "data": {
      "image/png": "[encoded data removed]",
      "text/plain": [
       "<Figure size 640x480 with 1 Axes>"
      ]
     },
     "metadata": {},
     "output_type": "display_data"
    }
   ],
   "source": [
    "# Plot distribution of values\n",
    "\n",
    "corruption_histo=dfall['Perceptions of corruption'].plot.hist(color='green', bins = 50)\n",
    "\n",
    "# Add title to plot\n",
    "plt.legend(['2015 - 2019'], title='Perceptions of corruption')"
   ]
  },
  {
   "cell_type": "code",
   "execution_count": 120,
   "id": "d73a5527",
   "metadata": {},
   "outputs": [],
   "source": [
    "# Export Visualization\n",
    "\n",
    "corruption_histo.figure.savefig(os.path.join(path, '04_Analysis','Visualizations', 'corruption_histo.png'))"
   ]
  },
  {
   "cell_type": "markdown",
   "id": "0e301f53",
   "metadata": {},
   "source": [
    "#### 'Ranking' Inconsistencies Analysis\n",
    "\n",
    "##### Missing # 34 in \"Overall rank\":"
   ]
  },
  {
   "cell_type": "code",
   "execution_count": 121,
   "id": "0ed824f0",
   "metadata": {},
   "outputs": [
    {
     "data": {
      "text/html": [
       "<div>\n",
       "<style scoped>\n",
       "    .dataframe tbody tr th:only-of-type {\n",
       "        vertical-align: middle;\n",
       "    }\n",
       "\n",
       "    .dataframe tbody tr th {\n",
       "        vertical-align: top;\n",
       "    }\n",
       "\n",
       "    .dataframe thead th {\n",
       "        text-align: right;\n",
       "    }\n",
       "</style>\n",
       "<table border=\"1\" class=\"dataframe\">\n",
       "  <thead>\n",
       "    <tr style=\"text-align: right;\">\n",
       "      <th></th>\n",
       "      <th>Year</th>\n",
       "      <th>Country</th>\n",
       "      <th>Region</th>\n",
       "      <th>Overall rank</th>\n",
       "      <th>Happiness score</th>\n",
       "      <th>GDP per capita</th>\n",
       "      <th>Social support</th>\n",
       "      <th>Healthy life expectancy</th>\n",
       "      <th>Freedom to make life choices</th>\n",
       "      <th>Generosity</th>\n",
       "      <th>Perceptions of corruption</th>\n",
       "    </tr>\n",
       "  </thead>\n",
       "  <tbody>\n",
       "    <tr>\n",
       "      <th>34</th>\n",
       "      <td>2019</td>\n",
       "      <td>El Salvador</td>\n",
       "      <td>Latin America and Caribbean</td>\n",
       "      <td>35</td>\n",
       "      <td>6.253</td>\n",
       "      <td>0.794000</td>\n",
       "      <td>1.242000</td>\n",
       "      <td>0.789000</td>\n",
       "      <td>0.430000</td>\n",
       "      <td>0.093000</td>\n",
       "      <td>0.074000</td>\n",
       "    </tr>\n",
       "    <tr>\n",
       "      <th>190</th>\n",
       "      <td>2018</td>\n",
       "      <td>Malaysia</td>\n",
       "      <td>Southeastern Asia</td>\n",
       "      <td>35</td>\n",
       "      <td>6.322</td>\n",
       "      <td>1.161000</td>\n",
       "      <td>1.258000</td>\n",
       "      <td>0.669000</td>\n",
       "      <td>0.356000</td>\n",
       "      <td>0.311000</td>\n",
       "      <td>0.059000</td>\n",
       "    </tr>\n",
       "    <tr>\n",
       "      <th>346</th>\n",
       "      <td>2017</td>\n",
       "      <td>Qatar</td>\n",
       "      <td>Middle East and Northern Africa</td>\n",
       "      <td>35</td>\n",
       "      <td>6.375</td>\n",
       "      <td>1.870766</td>\n",
       "      <td>1.274297</td>\n",
       "      <td>0.710098</td>\n",
       "      <td>0.604131</td>\n",
       "      <td>0.330474</td>\n",
       "      <td>0.439299</td>\n",
       "    </tr>\n",
       "    <tr>\n",
       "      <th>658</th>\n",
       "      <td>2015</td>\n",
       "      <td>Saudi Arabia</td>\n",
       "      <td>Middle East and Northern Africa</td>\n",
       "      <td>35</td>\n",
       "      <td>6.411</td>\n",
       "      <td>1.395410</td>\n",
       "      <td>1.083930</td>\n",
       "      <td>0.720250</td>\n",
       "      <td>0.310480</td>\n",
       "      <td>0.137060</td>\n",
       "      <td>0.325240</td>\n",
       "    </tr>\n",
       "  </tbody>\n",
       "</table>\n",
       "</div>"
      ],
      "text/plain": [
       "     Year       Country                           Region  Overall rank  \\\n",
       "34   2019   El Salvador      Latin America and Caribbean            35   \n",
       "190  2018      Malaysia                Southeastern Asia            35   \n",
       "346  2017         Qatar  Middle East and Northern Africa            35   \n",
       "658  2015  Saudi Arabia  Middle East and Northern Africa            35   \n",
       "\n",
       "     Happiness score  GDP per capita  Social support  Healthy life expectancy  \\\n",
       "34             6.253        0.794000        1.242000                 0.789000   \n",
       "190            6.322        1.161000        1.258000                 0.669000   \n",
       "346            6.375        1.870766        1.274297                 0.710098   \n",
       "658            6.411        1.395410        1.083930                 0.720250   \n",
       "\n",
       "     Freedom to make life choices  Generosity  Perceptions of corruption  \n",
       "34                       0.430000    0.093000                   0.074000  \n",
       "190                      0.356000    0.311000                   0.059000  \n",
       "346                      0.604131    0.330474                   0.439299  \n",
       "658                      0.310480    0.137060                   0.325240  "
      ]
     },
     "execution_count": 121,
     "metadata": {},
     "output_type": "execute_result"
    }
   ],
   "source": [
    "# Print all observations for rank 35\n",
    "\n",
    "dfall.loc[dfall['Overall rank'] == 35]     ## missing Year 2016"
   ]
  },
  {
   "cell_type": "code",
   "execution_count": 122,
   "id": "407ebe2b",
   "metadata": {},
   "outputs": [
    {
     "data": {
      "text/html": [
       "<div>\n",
       "<style scoped>\n",
       "    .dataframe tbody tr th:only-of-type {\n",
       "        vertical-align: middle;\n",
       "    }\n",
       "\n",
       "    .dataframe tbody tr th {\n",
       "        vertical-align: top;\n",
       "    }\n",
       "\n",
       "    .dataframe thead th {\n",
       "        text-align: right;\n",
       "    }\n",
       "</style>\n",
       "<table border=\"1\" class=\"dataframe\">\n",
       "  <thead>\n",
       "    <tr style=\"text-align: right;\">\n",
       "      <th></th>\n",
       "      <th>Year</th>\n",
       "      <th>Country</th>\n",
       "      <th>Region</th>\n",
       "      <th>Overall rank</th>\n",
       "      <th>Happiness score</th>\n",
       "      <th>GDP per capita</th>\n",
       "      <th>Social support</th>\n",
       "      <th>Healthy life expectancy</th>\n",
       "      <th>Freedom to make life choices</th>\n",
       "      <th>Generosity</th>\n",
       "      <th>Perceptions of corruption</th>\n",
       "    </tr>\n",
       "  </thead>\n",
       "  <tbody>\n",
       "    <tr>\n",
       "      <th>33</th>\n",
       "      <td>2019</td>\n",
       "      <td>Singapore</td>\n",
       "      <td>Southeastern Asia</td>\n",
       "      <td>34</td>\n",
       "      <td>6.262</td>\n",
       "      <td>1.572000</td>\n",
       "      <td>1.463000</td>\n",
       "      <td>1.141000</td>\n",
       "      <td>0.556000</td>\n",
       "      <td>0.271000</td>\n",
       "      <td>0.453000</td>\n",
       "    </tr>\n",
       "    <tr>\n",
       "      <th>189</th>\n",
       "      <td>2018</td>\n",
       "      <td>Singapore</td>\n",
       "      <td>Southeastern Asia</td>\n",
       "      <td>34</td>\n",
       "      <td>6.343</td>\n",
       "      <td>1.529000</td>\n",
       "      <td>1.451000</td>\n",
       "      <td>1.008000</td>\n",
       "      <td>0.631000</td>\n",
       "      <td>0.261000</td>\n",
       "      <td>0.457000</td>\n",
       "    </tr>\n",
       "    <tr>\n",
       "      <th>345</th>\n",
       "      <td>2017</td>\n",
       "      <td>Spain</td>\n",
       "      <td>Western Europe</td>\n",
       "      <td>34</td>\n",
       "      <td>6.403</td>\n",
       "      <td>1.384398</td>\n",
       "      <td>1.532091</td>\n",
       "      <td>0.888961</td>\n",
       "      <td>0.408781</td>\n",
       "      <td>0.190134</td>\n",
       "      <td>0.070914</td>\n",
       "    </tr>\n",
       "    <tr>\n",
       "      <th>500</th>\n",
       "      <td>2016</td>\n",
       "      <td>Saudi Arabia</td>\n",
       "      <td>Middle East and Northern Africa</td>\n",
       "      <td>34</td>\n",
       "      <td>6.379</td>\n",
       "      <td>1.489530</td>\n",
       "      <td>0.848290</td>\n",
       "      <td>0.592670</td>\n",
       "      <td>0.379040</td>\n",
       "      <td>0.154570</td>\n",
       "      <td>0.300080</td>\n",
       "    </tr>\n",
       "    <tr>\n",
       "      <th>501</th>\n",
       "      <td>2016</td>\n",
       "      <td>Taiwan</td>\n",
       "      <td>Eastern Asia</td>\n",
       "      <td>34</td>\n",
       "      <td>6.379</td>\n",
       "      <td>1.397290</td>\n",
       "      <td>0.926240</td>\n",
       "      <td>0.795650</td>\n",
       "      <td>0.323770</td>\n",
       "      <td>0.254950</td>\n",
       "      <td>0.066300</td>\n",
       "    </tr>\n",
       "    <tr>\n",
       "      <th>657</th>\n",
       "      <td>2015</td>\n",
       "      <td>Thailand</td>\n",
       "      <td>Southeastern Asia</td>\n",
       "      <td>34</td>\n",
       "      <td>6.455</td>\n",
       "      <td>0.966900</td>\n",
       "      <td>1.265040</td>\n",
       "      <td>0.738500</td>\n",
       "      <td>0.556640</td>\n",
       "      <td>0.576300</td>\n",
       "      <td>0.031870</td>\n",
       "    </tr>\n",
       "  </tbody>\n",
       "</table>\n",
       "</div>"
      ],
      "text/plain": [
       "     Year       Country                           Region  Overall rank  \\\n",
       "33   2019     Singapore                Southeastern Asia            34   \n",
       "189  2018     Singapore                Southeastern Asia            34   \n",
       "345  2017         Spain                   Western Europe            34   \n",
       "500  2016  Saudi Arabia  Middle East and Northern Africa            34   \n",
       "501  2016        Taiwan                     Eastern Asia            34   \n",
       "657  2015      Thailand                Southeastern Asia            34   \n",
       "\n",
       "     Happiness score  GDP per capita  Social support  Healthy life expectancy  \\\n",
       "33             6.262        1.572000        1.463000                 1.141000   \n",
       "189            6.343        1.529000        1.451000                 1.008000   \n",
       "345            6.403        1.384398        1.532091                 0.888961   \n",
       "500            6.379        1.489530        0.848290                 0.592670   \n",
       "501            6.379        1.397290        0.926240                 0.795650   \n",
       "657            6.455        0.966900        1.265040                 0.738500   \n",
       "\n",
       "     Freedom to make life choices  Generosity  Perceptions of corruption  \n",
       "33                       0.556000    0.271000                   0.453000  \n",
       "189                      0.631000    0.261000                   0.457000  \n",
       "345                      0.408781    0.190134                   0.070914  \n",
       "500                      0.379040    0.154570                   0.300080  \n",
       "501                      0.323770    0.254950                   0.066300  \n",
       "657                      0.556640    0.576300                   0.031870  "
      ]
     },
     "execution_count": 122,
     "metadata": {},
     "output_type": "execute_result"
    }
   ],
   "source": [
    "# Print all observations for rank 34\n",
    "\n",
    "dfall.loc[dfall['Overall rank'] == 34]   \n",
    "\n",
    "## Saudi Arabia and Taiwan has the same Happiness score and therefor tied for Rank position # 34."
   ]
  },
  {
   "cell_type": "code",
   "execution_count": 123,
   "id": "1667b568",
   "metadata": {},
   "outputs": [
    {
     "data": {
      "text/plain": [
       "<matplotlib.legend.Legend at 0x7fc0c0fbffd0>"
      ]
     },
     "execution_count": 123,
     "metadata": {},
     "output_type": "execute_result"
    },
    {
     "data": {
      "image/png": "[encoded data removed]",
      "text/plain": [
       "<Figure size 640x480 with 1 Axes>"
      ]
     },
     "metadata": {},
     "output_type": "display_data"
    }
   ],
   "source": [
    "# Scatterplot \"Overall rank\" vs \"Score\"\n",
    "\n",
    "sns.scatterplot(x=\"Overall rank\", y=\"Happiness score\", data=df16)\n",
    "\n",
    "# Add title to plot\n",
    "plt.legend(['2016'], title='Scatterplot Overall rank vs Score')  ## 'Rank' is based on 'Happiness score'. "
   ]
  },
  {
   "cell_type": "markdown",
   "id": "b9aa1c6e",
   "metadata": {},
   "source": [
    "##### Missing # 58 in \"Overall rank\":"
   ]
  },
  {
   "cell_type": "code",
   "execution_count": 124,
   "id": "8d3c860f",
   "metadata": {},
   "outputs": [
    {
     "data": {
      "text/html": [
       "<div>\n",
       "<style scoped>\n",
       "    .dataframe tbody tr th:only-of-type {\n",
       "        vertical-align: middle;\n",
       "    }\n",
       "\n",
       "    .dataframe tbody tr th {\n",
       "        vertical-align: top;\n",
       "    }\n",
       "\n",
       "    .dataframe thead th {\n",
       "        text-align: right;\n",
       "    }\n",
       "</style>\n",
       "<table border=\"1\" class=\"dataframe\">\n",
       "  <thead>\n",
       "    <tr style=\"text-align: right;\">\n",
       "      <th></th>\n",
       "      <th>Year</th>\n",
       "      <th>Country</th>\n",
       "      <th>Region</th>\n",
       "      <th>Overall rank</th>\n",
       "      <th>Happiness score</th>\n",
       "      <th>GDP per capita</th>\n",
       "      <th>Social support</th>\n",
       "      <th>Healthy life expectancy</th>\n",
       "      <th>Freedom to make life choices</th>\n",
       "      <th>Generosity</th>\n",
       "      <th>Perceptions of corruption</th>\n",
       "    </tr>\n",
       "  </thead>\n",
       "  <tbody>\n",
       "    <tr>\n",
       "      <th>57</th>\n",
       "      <td>2019</td>\n",
       "      <td>Japan</td>\n",
       "      <td>Eastern Asia</td>\n",
       "      <td>58</td>\n",
       "      <td>5.886</td>\n",
       "      <td>1.327000</td>\n",
       "      <td>1.419000</td>\n",
       "      <td>1.08800</td>\n",
       "      <td>0.445000</td>\n",
       "      <td>0.069000</td>\n",
       "      <td>0.140000</td>\n",
       "    </tr>\n",
       "    <tr>\n",
       "      <th>213</th>\n",
       "      <td>2018</td>\n",
       "      <td>Northern Cyprus</td>\n",
       "      <td>Middle East and Northern Africa</td>\n",
       "      <td>58</td>\n",
       "      <td>5.835</td>\n",
       "      <td>1.229000</td>\n",
       "      <td>1.211000</td>\n",
       "      <td>0.90900</td>\n",
       "      <td>0.495000</td>\n",
       "      <td>0.179000</td>\n",
       "      <td>0.154000</td>\n",
       "    </tr>\n",
       "    <tr>\n",
       "      <th>369</th>\n",
       "      <td>2017</td>\n",
       "      <td>Bolivia</td>\n",
       "      <td>Latin America and Caribbean</td>\n",
       "      <td>58</td>\n",
       "      <td>5.823</td>\n",
       "      <td>0.833757</td>\n",
       "      <td>1.227619</td>\n",
       "      <td>0.47363</td>\n",
       "      <td>0.558733</td>\n",
       "      <td>0.225561</td>\n",
       "      <td>0.060478</td>\n",
       "    </tr>\n",
       "    <tr>\n",
       "      <th>681</th>\n",
       "      <td>2015</td>\n",
       "      <td>Peru</td>\n",
       "      <td>Latin America and Caribbean</td>\n",
       "      <td>58</td>\n",
       "      <td>5.824</td>\n",
       "      <td>0.900190</td>\n",
       "      <td>0.974590</td>\n",
       "      <td>0.73017</td>\n",
       "      <td>0.414960</td>\n",
       "      <td>0.149820</td>\n",
       "      <td>0.059890</td>\n",
       "    </tr>\n",
       "  </tbody>\n",
       "</table>\n",
       "</div>"
      ],
      "text/plain": [
       "     Year          Country                           Region  Overall rank  \\\n",
       "57   2019            Japan                     Eastern Asia            58   \n",
       "213  2018  Northern Cyprus  Middle East and Northern Africa            58   \n",
       "369  2017          Bolivia      Latin America and Caribbean            58   \n",
       "681  2015             Peru      Latin America and Caribbean            58   \n",
       "\n",
       "     Happiness score  GDP per capita  Social support  Healthy life expectancy  \\\n",
       "57             5.886        1.327000        1.419000                  1.08800   \n",
       "213            5.835        1.229000        1.211000                  0.90900   \n",
       "369            5.823        0.833757        1.227619                  0.47363   \n",
       "681            5.824        0.900190        0.974590                  0.73017   \n",
       "\n",
       "     Freedom to make life choices  Generosity  Perceptions of corruption  \n",
       "57                       0.445000    0.069000                   0.140000  \n",
       "213                      0.495000    0.179000                   0.154000  \n",
       "369                      0.558733    0.225561                   0.060478  \n",
       "681                      0.414960    0.149820                   0.059890  "
      ]
     },
     "execution_count": 124,
     "metadata": {},
     "output_type": "execute_result"
    }
   ],
   "source": [
    "# Print all observations for rank 58\n",
    "\n",
    "dfall.loc[dfall['Overall rank'] == 58]     ## missing Year 2016"
   ]
  },
  {
   "cell_type": "code",
   "execution_count": 125,
   "id": "e68d1e9b",
   "metadata": {},
   "outputs": [
    {
     "data": {
      "text/html": [
       "<div>\n",
       "<style scoped>\n",
       "    .dataframe tbody tr th:only-of-type {\n",
       "        vertical-align: middle;\n",
       "    }\n",
       "\n",
       "    .dataframe tbody tr th {\n",
       "        vertical-align: top;\n",
       "    }\n",
       "\n",
       "    .dataframe thead th {\n",
       "        text-align: right;\n",
       "    }\n",
       "</style>\n",
       "<table border=\"1\" class=\"dataframe\">\n",
       "  <thead>\n",
       "    <tr style=\"text-align: right;\">\n",
       "      <th></th>\n",
       "      <th>Year</th>\n",
       "      <th>Country</th>\n",
       "      <th>Region</th>\n",
       "      <th>Overall rank</th>\n",
       "      <th>Happiness score</th>\n",
       "      <th>GDP per capita</th>\n",
       "      <th>Social support</th>\n",
       "      <th>Healthy life expectancy</th>\n",
       "      <th>Freedom to make life choices</th>\n",
       "      <th>Generosity</th>\n",
       "      <th>Perceptions of corruption</th>\n",
       "    </tr>\n",
       "  </thead>\n",
       "  <tbody>\n",
       "    <tr>\n",
       "      <th>56</th>\n",
       "      <td>2019</td>\n",
       "      <td>Mauritius</td>\n",
       "      <td>Sub-Saharan Africa</td>\n",
       "      <td>57</td>\n",
       "      <td>5.888</td>\n",
       "      <td>1.120000</td>\n",
       "      <td>1.402000</td>\n",
       "      <td>0.798000</td>\n",
       "      <td>0.498000</td>\n",
       "      <td>0.21500</td>\n",
       "      <td>0.060000</td>\n",
       "    </tr>\n",
       "    <tr>\n",
       "      <th>212</th>\n",
       "      <td>2018</td>\n",
       "      <td>South Korea</td>\n",
       "      <td>Eastern Asia</td>\n",
       "      <td>57</td>\n",
       "      <td>5.875</td>\n",
       "      <td>1.266000</td>\n",
       "      <td>1.204000</td>\n",
       "      <td>0.955000</td>\n",
       "      <td>0.244000</td>\n",
       "      <td>0.17500</td>\n",
       "      <td>0.051000</td>\n",
       "    </tr>\n",
       "    <tr>\n",
       "      <th>368</th>\n",
       "      <td>2017</td>\n",
       "      <td>Romania</td>\n",
       "      <td>Central and Eastern Europe</td>\n",
       "      <td>57</td>\n",
       "      <td>5.825</td>\n",
       "      <td>1.217684</td>\n",
       "      <td>1.150091</td>\n",
       "      <td>0.685158</td>\n",
       "      <td>0.457004</td>\n",
       "      <td>0.13352</td>\n",
       "      <td>0.004388</td>\n",
       "    </tr>\n",
       "    <tr>\n",
       "      <th>523</th>\n",
       "      <td>2016</td>\n",
       "      <td>Poland</td>\n",
       "      <td>Central and Eastern Europe</td>\n",
       "      <td>57</td>\n",
       "      <td>5.835</td>\n",
       "      <td>1.245850</td>\n",
       "      <td>1.046850</td>\n",
       "      <td>0.690580</td>\n",
       "      <td>0.451900</td>\n",
       "      <td>0.14443</td>\n",
       "      <td>0.055000</td>\n",
       "    </tr>\n",
       "    <tr>\n",
       "      <th>524</th>\n",
       "      <td>2016</td>\n",
       "      <td>South Korea</td>\n",
       "      <td>Eastern Asia</td>\n",
       "      <td>57</td>\n",
       "      <td>5.835</td>\n",
       "      <td>1.359480</td>\n",
       "      <td>0.721940</td>\n",
       "      <td>0.886450</td>\n",
       "      <td>0.251680</td>\n",
       "      <td>0.18824</td>\n",
       "      <td>0.077160</td>\n",
       "    </tr>\n",
       "    <tr>\n",
       "      <th>680</th>\n",
       "      <td>2015</td>\n",
       "      <td>Nicaragua</td>\n",
       "      <td>Latin America and Caribbean</td>\n",
       "      <td>57</td>\n",
       "      <td>5.828</td>\n",
       "      <td>0.593250</td>\n",
       "      <td>1.141840</td>\n",
       "      <td>0.743140</td>\n",
       "      <td>0.554750</td>\n",
       "      <td>0.27815</td>\n",
       "      <td>0.193170</td>\n",
       "    </tr>\n",
       "  </tbody>\n",
       "</table>\n",
       "</div>"
      ],
      "text/plain": [
       "     Year      Country                       Region  Overall rank  \\\n",
       "56   2019    Mauritius           Sub-Saharan Africa            57   \n",
       "212  2018  South Korea                 Eastern Asia            57   \n",
       "368  2017      Romania   Central and Eastern Europe            57   \n",
       "523  2016       Poland   Central and Eastern Europe            57   \n",
       "524  2016  South Korea                 Eastern Asia            57   \n",
       "680  2015    Nicaragua  Latin America and Caribbean            57   \n",
       "\n",
       "     Happiness score  GDP per capita  Social support  Healthy life expectancy  \\\n",
       "56             5.888        1.120000        1.402000                 0.798000   \n",
       "212            5.875        1.266000        1.204000                 0.955000   \n",
       "368            5.825        1.217684        1.150091                 0.685158   \n",
       "523            5.835        1.245850        1.046850                 0.690580   \n",
       "524            5.835        1.359480        0.721940                 0.886450   \n",
       "680            5.828        0.593250        1.141840                 0.743140   \n",
       "\n",
       "     Freedom to make life choices  Generosity  Perceptions of corruption  \n",
       "56                       0.498000     0.21500                   0.060000  \n",
       "212                      0.244000     0.17500                   0.051000  \n",
       "368                      0.457004     0.13352                   0.004388  \n",
       "523                      0.451900     0.14443                   0.055000  \n",
       "524                      0.251680     0.18824                   0.077160  \n",
       "680                      0.554750     0.27815                   0.193170  "
      ]
     },
     "execution_count": 125,
     "metadata": {},
     "output_type": "execute_result"
    }
   ],
   "source": [
    "# Print all observations for rank 57\n",
    "\n",
    "dfall.loc[dfall['Overall rank'] == 57]     \n",
    "\n",
    "## Poland and South Korea has the same Score and therefor tied for Rank position # 57. "
   ]
  },
  {
   "cell_type": "markdown",
   "id": "5ece786b",
   "metadata": {},
   "source": [
    "##### Missing # 83 in \"Overall rank\":"
   ]
  },
  {
   "cell_type": "code",
   "execution_count": 126,
   "id": "8a633914",
   "metadata": {},
   "outputs": [
    {
     "data": {
      "text/html": [
       "<div>\n",
       "<style scoped>\n",
       "    .dataframe tbody tr th:only-of-type {\n",
       "        vertical-align: middle;\n",
       "    }\n",
       "\n",
       "    .dataframe tbody tr th {\n",
       "        vertical-align: top;\n",
       "    }\n",
       "\n",
       "    .dataframe thead th {\n",
       "        text-align: right;\n",
       "    }\n",
       "</style>\n",
       "<table border=\"1\" class=\"dataframe\">\n",
       "  <thead>\n",
       "    <tr style=\"text-align: right;\">\n",
       "      <th></th>\n",
       "      <th>Year</th>\n",
       "      <th>Country</th>\n",
       "      <th>Region</th>\n",
       "      <th>Overall rank</th>\n",
       "      <th>Happiness score</th>\n",
       "      <th>GDP per capita</th>\n",
       "      <th>Social support</th>\n",
       "      <th>Healthy life expectancy</th>\n",
       "      <th>Freedom to make life choices</th>\n",
       "      <th>Generosity</th>\n",
       "      <th>Perceptions of corruption</th>\n",
       "    </tr>\n",
       "  </thead>\n",
       "  <tbody>\n",
       "    <tr>\n",
       "      <th>82</th>\n",
       "      <td>2019</td>\n",
       "      <td>Mongolia</td>\n",
       "      <td>Eastern Asia</td>\n",
       "      <td>83</td>\n",
       "      <td>5.285</td>\n",
       "      <td>0.948000</td>\n",
       "      <td>1.531000</td>\n",
       "      <td>0.667000</td>\n",
       "      <td>0.317000</td>\n",
       "      <td>0.235000</td>\n",
       "      <td>0.038000</td>\n",
       "    </tr>\n",
       "    <tr>\n",
       "      <th>238</th>\n",
       "      <td>2018</td>\n",
       "      <td>Dominican Republic</td>\n",
       "      <td>Latin America and Caribbean</td>\n",
       "      <td>83</td>\n",
       "      <td>5.302</td>\n",
       "      <td>0.982000</td>\n",
       "      <td>1.441000</td>\n",
       "      <td>0.614000</td>\n",
       "      <td>0.578000</td>\n",
       "      <td>0.120000</td>\n",
       "      <td>0.106000</td>\n",
       "    </tr>\n",
       "    <tr>\n",
       "      <th>394</th>\n",
       "      <td>2017</td>\n",
       "      <td>Montenegro</td>\n",
       "      <td>Central and Eastern Europe</td>\n",
       "      <td>83</td>\n",
       "      <td>5.237</td>\n",
       "      <td>1.121129</td>\n",
       "      <td>1.238376</td>\n",
       "      <td>0.667465</td>\n",
       "      <td>0.194989</td>\n",
       "      <td>0.197911</td>\n",
       "      <td>0.088174</td>\n",
       "    </tr>\n",
       "    <tr>\n",
       "      <th>549</th>\n",
       "      <td>2016</td>\n",
       "      <td>China</td>\n",
       "      <td>Eastern Asia</td>\n",
       "      <td>83</td>\n",
       "      <td>5.245</td>\n",
       "      <td>1.027800</td>\n",
       "      <td>0.793810</td>\n",
       "      <td>0.735610</td>\n",
       "      <td>0.440120</td>\n",
       "      <td>0.049590</td>\n",
       "      <td>0.027450</td>\n",
       "    </tr>\n",
       "  </tbody>\n",
       "</table>\n",
       "</div>"
      ],
      "text/plain": [
       "     Year             Country                       Region  Overall rank  \\\n",
       "82   2019            Mongolia                 Eastern Asia            83   \n",
       "238  2018  Dominican Republic  Latin America and Caribbean            83   \n",
       "394  2017          Montenegro   Central and Eastern Europe            83   \n",
       "549  2016               China                 Eastern Asia            83   \n",
       "\n",
       "     Happiness score  GDP per capita  Social support  Healthy life expectancy  \\\n",
       "82             5.285        0.948000        1.531000                 0.667000   \n",
       "238            5.302        0.982000        1.441000                 0.614000   \n",
       "394            5.237        1.121129        1.238376                 0.667465   \n",
       "549            5.245        1.027800        0.793810                 0.735610   \n",
       "\n",
       "     Freedom to make life choices  Generosity  Perceptions of corruption  \n",
       "82                       0.317000    0.235000                   0.038000  \n",
       "238                      0.578000    0.120000                   0.106000  \n",
       "394                      0.194989    0.197911                   0.088174  \n",
       "549                      0.440120    0.049590                   0.027450  "
      ]
     },
     "execution_count": 126,
     "metadata": {},
     "output_type": "execute_result"
    }
   ],
   "source": [
    "# Print all observations for rank 83\n",
    "\n",
    "dfall.loc[dfall['Overall rank'] == 83]     ## missing Year 2015"
   ]
  },
  {
   "cell_type": "code",
   "execution_count": 127,
   "id": "8f1efc19",
   "metadata": {
    "scrolled": true
   },
   "outputs": [
    {
     "data": {
      "text/html": [
       "<div>\n",
       "<style scoped>\n",
       "    .dataframe tbody tr th:only-of-type {\n",
       "        vertical-align: middle;\n",
       "    }\n",
       "\n",
       "    .dataframe tbody tr th {\n",
       "        vertical-align: top;\n",
       "    }\n",
       "\n",
       "    .dataframe thead th {\n",
       "        text-align: right;\n",
       "    }\n",
       "</style>\n",
       "<table border=\"1\" class=\"dataframe\">\n",
       "  <thead>\n",
       "    <tr style=\"text-align: right;\">\n",
       "      <th></th>\n",
       "      <th>Year</th>\n",
       "      <th>Country</th>\n",
       "      <th>Region</th>\n",
       "      <th>Overall rank</th>\n",
       "      <th>Happiness score</th>\n",
       "      <th>GDP per capita</th>\n",
       "      <th>Social support</th>\n",
       "      <th>Healthy life expectancy</th>\n",
       "      <th>Freedom to make life choices</th>\n",
       "      <th>Generosity</th>\n",
       "      <th>Perceptions of corruption</th>\n",
       "    </tr>\n",
       "  </thead>\n",
       "  <tbody>\n",
       "    <tr>\n",
       "      <th>81</th>\n",
       "      <td>2019</td>\n",
       "      <td>Greece</td>\n",
       "      <td>Western Europe</td>\n",
       "      <td>82</td>\n",
       "      <td>5.287</td>\n",
       "      <td>1.181000</td>\n",
       "      <td>1.156000</td>\n",
       "      <td>0.999000</td>\n",
       "      <td>0.067000</td>\n",
       "      <td>0.00000</td>\n",
       "      <td>0.034000</td>\n",
       "    </tr>\n",
       "    <tr>\n",
       "      <th>237</th>\n",
       "      <td>2018</td>\n",
       "      <td>Croatia</td>\n",
       "      <td>Central and Eastern Europe</td>\n",
       "      <td>82</td>\n",
       "      <td>5.321</td>\n",
       "      <td>1.115000</td>\n",
       "      <td>1.161000</td>\n",
       "      <td>0.737000</td>\n",
       "      <td>0.380000</td>\n",
       "      <td>0.12000</td>\n",
       "      <td>0.039000</td>\n",
       "    </tr>\n",
       "    <tr>\n",
       "      <th>393</th>\n",
       "      <td>2017</td>\n",
       "      <td>Venezuela</td>\n",
       "      <td>Latin America and Caribbean</td>\n",
       "      <td>82</td>\n",
       "      <td>5.250</td>\n",
       "      <td>1.128431</td>\n",
       "      <td>1.431338</td>\n",
       "      <td>0.617144</td>\n",
       "      <td>0.153997</td>\n",
       "      <td>0.06502</td>\n",
       "      <td>0.064491</td>\n",
       "    </tr>\n",
       "    <tr>\n",
       "      <th>548</th>\n",
       "      <td>2016</td>\n",
       "      <td>Philippines</td>\n",
       "      <td>Southeastern Asia</td>\n",
       "      <td>82</td>\n",
       "      <td>5.279</td>\n",
       "      <td>0.812170</td>\n",
       "      <td>0.878770</td>\n",
       "      <td>0.470360</td>\n",
       "      <td>0.548540</td>\n",
       "      <td>0.21674</td>\n",
       "      <td>0.117570</td>\n",
       "    </tr>\n",
       "    <tr>\n",
       "      <th>705</th>\n",
       "      <td>2015</td>\n",
       "      <td>Jordan</td>\n",
       "      <td>Middle East and Northern Africa</td>\n",
       "      <td>82</td>\n",
       "      <td>5.192</td>\n",
       "      <td>0.901980</td>\n",
       "      <td>1.053920</td>\n",
       "      <td>0.696390</td>\n",
       "      <td>0.406610</td>\n",
       "      <td>0.11053</td>\n",
       "      <td>0.142930</td>\n",
       "    </tr>\n",
       "    <tr>\n",
       "      <th>706</th>\n",
       "      <td>2015</td>\n",
       "      <td>Montenegro</td>\n",
       "      <td>Central and Eastern Europe</td>\n",
       "      <td>82</td>\n",
       "      <td>5.192</td>\n",
       "      <td>0.974380</td>\n",
       "      <td>0.905570</td>\n",
       "      <td>0.725210</td>\n",
       "      <td>0.182600</td>\n",
       "      <td>0.16140</td>\n",
       "      <td>0.142960</td>\n",
       "    </tr>\n",
       "  </tbody>\n",
       "</table>\n",
       "</div>"
      ],
      "text/plain": [
       "     Year      Country                           Region  Overall rank  \\\n",
       "81   2019       Greece                   Western Europe            82   \n",
       "237  2018      Croatia       Central and Eastern Europe            82   \n",
       "393  2017    Venezuela      Latin America and Caribbean            82   \n",
       "548  2016  Philippines                Southeastern Asia            82   \n",
       "705  2015       Jordan  Middle East and Northern Africa            82   \n",
       "706  2015   Montenegro       Central and Eastern Europe            82   \n",
       "\n",
       "     Happiness score  GDP per capita  Social support  Healthy life expectancy  \\\n",
       "81             5.287        1.181000        1.156000                 0.999000   \n",
       "237            5.321        1.115000        1.161000                 0.737000   \n",
       "393            5.250        1.128431        1.431338                 0.617144   \n",
       "548            5.279        0.812170        0.878770                 0.470360   \n",
       "705            5.192        0.901980        1.053920                 0.696390   \n",
       "706            5.192        0.974380        0.905570                 0.725210   \n",
       "\n",
       "     Freedom to make life choices  Generosity  Perceptions of corruption  \n",
       "81                       0.067000     0.00000                   0.034000  \n",
       "237                      0.380000     0.12000                   0.039000  \n",
       "393                      0.153997     0.06502                   0.064491  \n",
       "548                      0.548540     0.21674                   0.117570  \n",
       "705                      0.406610     0.11053                   0.142930  \n",
       "706                      0.182600     0.16140                   0.142960  "
      ]
     },
     "execution_count": 127,
     "metadata": {},
     "output_type": "execute_result"
    }
   ],
   "source": [
    "# Print all observations for rank 82\n",
    "\n",
    "dfall.loc[dfall['Overall rank'] == 82]\n",
    "\n",
    "## Jordan and Montenegro has the same Score and therefor tied for Rank position # 82."
   ]
  },
  {
   "cell_type": "markdown",
   "id": "a273834e",
   "metadata": {},
   "source": [
    "##### Missing # 145 in \"Overall rank\":"
   ]
  },
  {
   "cell_type": "code",
   "execution_count": 128,
   "id": "5e02a455",
   "metadata": {},
   "outputs": [
    {
     "data": {
      "text/html": [
       "<div>\n",
       "<style scoped>\n",
       "    .dataframe tbody tr th:only-of-type {\n",
       "        vertical-align: middle;\n",
       "    }\n",
       "\n",
       "    .dataframe tbody tr th {\n",
       "        vertical-align: top;\n",
       "    }\n",
       "\n",
       "    .dataframe thead th {\n",
       "        text-align: right;\n",
       "    }\n",
       "</style>\n",
       "<table border=\"1\" class=\"dataframe\">\n",
       "  <thead>\n",
       "    <tr style=\"text-align: right;\">\n",
       "      <th></th>\n",
       "      <th>Year</th>\n",
       "      <th>Country</th>\n",
       "      <th>Region</th>\n",
       "      <th>Overall rank</th>\n",
       "      <th>Happiness score</th>\n",
       "      <th>GDP per capita</th>\n",
       "      <th>Social support</th>\n",
       "      <th>Healthy life expectancy</th>\n",
       "      <th>Freedom to make life choices</th>\n",
       "      <th>Generosity</th>\n",
       "      <th>Perceptions of corruption</th>\n",
       "    </tr>\n",
       "  </thead>\n",
       "  <tbody>\n",
       "    <tr>\n",
       "      <th>145</th>\n",
       "      <td>2019</td>\n",
       "      <td>Zimbabwe</td>\n",
       "      <td>Sub-Saharan Africa</td>\n",
       "      <td>146</td>\n",
       "      <td>3.663</td>\n",
       "      <td>0.366000</td>\n",
       "      <td>1.114000</td>\n",
       "      <td>0.433000</td>\n",
       "      <td>0.361000</td>\n",
       "      <td>0.151000</td>\n",
       "      <td>0.089000</td>\n",
       "    </tr>\n",
       "    <tr>\n",
       "      <th>301</th>\n",
       "      <td>2018</td>\n",
       "      <td>Botswana</td>\n",
       "      <td>Sub-Saharan Africa</td>\n",
       "      <td>146</td>\n",
       "      <td>3.590</td>\n",
       "      <td>1.017000</td>\n",
       "      <td>1.174000</td>\n",
       "      <td>0.417000</td>\n",
       "      <td>0.557000</td>\n",
       "      <td>0.042000</td>\n",
       "      <td>0.092000</td>\n",
       "    </tr>\n",
       "    <tr>\n",
       "      <th>457</th>\n",
       "      <td>2017</td>\n",
       "      <td>Yemen</td>\n",
       "      <td>Middle East and Northern Africa</td>\n",
       "      <td>146</td>\n",
       "      <td>3.593</td>\n",
       "      <td>0.591683</td>\n",
       "      <td>0.935382</td>\n",
       "      <td>0.310081</td>\n",
       "      <td>0.249464</td>\n",
       "      <td>0.104125</td>\n",
       "      <td>0.056767</td>\n",
       "    </tr>\n",
       "    <tr>\n",
       "      <th>769</th>\n",
       "      <td>2015</td>\n",
       "      <td>Tanzania</td>\n",
       "      <td>Sub-Saharan Africa</td>\n",
       "      <td>146</td>\n",
       "      <td>3.781</td>\n",
       "      <td>0.285200</td>\n",
       "      <td>1.002680</td>\n",
       "      <td>0.382150</td>\n",
       "      <td>0.328780</td>\n",
       "      <td>0.343770</td>\n",
       "      <td>0.057470</td>\n",
       "    </tr>\n",
       "  </tbody>\n",
       "</table>\n",
       "</div>"
      ],
      "text/plain": [
       "     Year   Country                           Region  Overall rank  \\\n",
       "145  2019  Zimbabwe               Sub-Saharan Africa           146   \n",
       "301  2018  Botswana               Sub-Saharan Africa           146   \n",
       "457  2017     Yemen  Middle East and Northern Africa           146   \n",
       "769  2015  Tanzania               Sub-Saharan Africa           146   \n",
       "\n",
       "     Happiness score  GDP per capita  Social support  Healthy life expectancy  \\\n",
       "145            3.663        0.366000        1.114000                 0.433000   \n",
       "301            3.590        1.017000        1.174000                 0.417000   \n",
       "457            3.593        0.591683        0.935382                 0.310081   \n",
       "769            3.781        0.285200        1.002680                 0.382150   \n",
       "\n",
       "     Freedom to make life choices  Generosity  Perceptions of corruption  \n",
       "145                      0.361000    0.151000                   0.089000  \n",
       "301                      0.557000    0.042000                   0.092000  \n",
       "457                      0.249464    0.104125                   0.056767  \n",
       "769                      0.328780    0.343770                   0.057470  "
      ]
     },
     "execution_count": 128,
     "metadata": {},
     "output_type": "execute_result"
    }
   ],
   "source": [
    "# Print all observations for rank 146\n",
    "\n",
    "dfall.loc[dfall['Overall rank'] == 146]       ## missing Year 2016"
   ]
  },
  {
   "cell_type": "code",
   "execution_count": 129,
   "id": "80529a3e",
   "metadata": {},
   "outputs": [
    {
     "data": {
      "text/html": [
       "<div>\n",
       "<style scoped>\n",
       "    .dataframe tbody tr th:only-of-type {\n",
       "        vertical-align: middle;\n",
       "    }\n",
       "\n",
       "    .dataframe tbody tr th {\n",
       "        vertical-align: top;\n",
       "    }\n",
       "\n",
       "    .dataframe thead th {\n",
       "        text-align: right;\n",
       "    }\n",
       "</style>\n",
       "<table border=\"1\" class=\"dataframe\">\n",
       "  <thead>\n",
       "    <tr style=\"text-align: right;\">\n",
       "      <th></th>\n",
       "      <th>Year</th>\n",
       "      <th>Country</th>\n",
       "      <th>Region</th>\n",
       "      <th>Overall rank</th>\n",
       "      <th>Happiness score</th>\n",
       "      <th>GDP per capita</th>\n",
       "      <th>Social support</th>\n",
       "      <th>Healthy life expectancy</th>\n",
       "      <th>Freedom to make life choices</th>\n",
       "      <th>Generosity</th>\n",
       "      <th>Perceptions of corruption</th>\n",
       "    </tr>\n",
       "  </thead>\n",
       "  <tbody>\n",
       "    <tr>\n",
       "      <th>144</th>\n",
       "      <td>2019</td>\n",
       "      <td>Burundi</td>\n",
       "      <td>Sub-Saharan Africa</td>\n",
       "      <td>145</td>\n",
       "      <td>3.775</td>\n",
       "      <td>0.04600</td>\n",
       "      <td>0.44700</td>\n",
       "      <td>0.380000</td>\n",
       "      <td>0.22000</td>\n",
       "      <td>0.176000</td>\n",
       "      <td>0.180000</td>\n",
       "    </tr>\n",
       "    <tr>\n",
       "      <th>300</th>\n",
       "      <td>2018</td>\n",
       "      <td>Afghanistan</td>\n",
       "      <td>Southern Asia</td>\n",
       "      <td>145</td>\n",
       "      <td>3.632</td>\n",
       "      <td>0.33200</td>\n",
       "      <td>0.53700</td>\n",
       "      <td>0.255000</td>\n",
       "      <td>0.08500</td>\n",
       "      <td>0.191000</td>\n",
       "      <td>0.036000</td>\n",
       "    </tr>\n",
       "    <tr>\n",
       "      <th>456</th>\n",
       "      <td>2017</td>\n",
       "      <td>Haiti</td>\n",
       "      <td>Latin America and Caribbean</td>\n",
       "      <td>145</td>\n",
       "      <td>3.603</td>\n",
       "      <td>0.36861</td>\n",
       "      <td>0.64045</td>\n",
       "      <td>0.277321</td>\n",
       "      <td>0.03037</td>\n",
       "      <td>0.489204</td>\n",
       "      <td>0.099872</td>\n",
       "    </tr>\n",
       "    <tr>\n",
       "      <th>611</th>\n",
       "      <td>2016</td>\n",
       "      <td>Burkina Faso</td>\n",
       "      <td>Sub-Saharan Africa</td>\n",
       "      <td>145</td>\n",
       "      <td>3.739</td>\n",
       "      <td>0.31995</td>\n",
       "      <td>0.63054</td>\n",
       "      <td>0.212970</td>\n",
       "      <td>0.33370</td>\n",
       "      <td>0.243530</td>\n",
       "      <td>0.125330</td>\n",
       "    </tr>\n",
       "    <tr>\n",
       "      <th>612</th>\n",
       "      <td>2016</td>\n",
       "      <td>Uganda</td>\n",
       "      <td>Sub-Saharan Africa</td>\n",
       "      <td>145</td>\n",
       "      <td>3.739</td>\n",
       "      <td>0.34719</td>\n",
       "      <td>0.90981</td>\n",
       "      <td>0.196250</td>\n",
       "      <td>0.43653</td>\n",
       "      <td>0.271020</td>\n",
       "      <td>0.064420</td>\n",
       "    </tr>\n",
       "    <tr>\n",
       "      <th>768</th>\n",
       "      <td>2015</td>\n",
       "      <td>Cambodia</td>\n",
       "      <td>Southeastern Asia</td>\n",
       "      <td>145</td>\n",
       "      <td>3.819</td>\n",
       "      <td>0.46038</td>\n",
       "      <td>0.62736</td>\n",
       "      <td>0.611140</td>\n",
       "      <td>0.66246</td>\n",
       "      <td>0.403590</td>\n",
       "      <td>0.072470</td>\n",
       "    </tr>\n",
       "  </tbody>\n",
       "</table>\n",
       "</div>"
      ],
      "text/plain": [
       "     Year       Country                       Region  Overall rank  \\\n",
       "144  2019       Burundi           Sub-Saharan Africa           145   \n",
       "300  2018   Afghanistan                Southern Asia           145   \n",
       "456  2017         Haiti  Latin America and Caribbean           145   \n",
       "611  2016  Burkina Faso           Sub-Saharan Africa           145   \n",
       "612  2016        Uganda           Sub-Saharan Africa           145   \n",
       "768  2015      Cambodia            Southeastern Asia           145   \n",
       "\n",
       "     Happiness score  GDP per capita  Social support  Healthy life expectancy  \\\n",
       "144            3.775         0.04600         0.44700                 0.380000   \n",
       "300            3.632         0.33200         0.53700                 0.255000   \n",
       "456            3.603         0.36861         0.64045                 0.277321   \n",
       "611            3.739         0.31995         0.63054                 0.212970   \n",
       "612            3.739         0.34719         0.90981                 0.196250   \n",
       "768            3.819         0.46038         0.62736                 0.611140   \n",
       "\n",
       "     Freedom to make life choices  Generosity  Perceptions of corruption  \n",
       "144                       0.22000    0.176000                   0.180000  \n",
       "300                       0.08500    0.191000                   0.036000  \n",
       "456                       0.03037    0.489204                   0.099872  \n",
       "611                       0.33370    0.243530                   0.125330  \n",
       "612                       0.43653    0.271020                   0.064420  \n",
       "768                       0.66246    0.403590                   0.072470  "
      ]
     },
     "execution_count": 129,
     "metadata": {},
     "output_type": "execute_result"
    }
   ],
   "source": [
    "# Print all observations for rank 145\n",
    "\n",
    "dfall.loc[dfall['Overall rank'] == 145]    \n",
    "\n",
    "## Uganda and Burkina Faso has the same Score and therefor tied for Rank position # 145."
   ]
  },
  {
   "cell_type": "markdown",
   "id": "6e2c26c6",
   "metadata": {},
   "source": [
    "### 7. Exporting Data"
   ]
  },
  {
   "cell_type": "code",
   "execution_count": 130,
   "id": "0eaa4468",
   "metadata": {},
   "outputs": [],
   "source": [
    "# Export cust_ords_prods as \"cop_dep.pkl\"\n",
    "dfall.to_csv(os.path.join(path, '02_Data','Prepared','df_all.csv'))"
   ]
  },
  {
   "cell_type": "code",
   "execution_count": 131,
   "id": "881560d9",
   "metadata": {},
   "outputs": [],
   "source": [
    "df19.to_csv(os.path.join(path, '02_Data','Prepared', 'df19.csv'))"
   ]
  },
  {
   "cell_type": "code",
   "execution_count": 132,
   "id": "07a9b419",
   "metadata": {},
   "outputs": [],
   "source": [
    "df18.to_csv(os.path.join(path, '02_Data','Prepared', 'df18.csv'))"
   ]
  },
  {
   "cell_type": "code",
   "execution_count": 133,
   "id": "21c7055f",
   "metadata": {},
   "outputs": [],
   "source": [
    "df17.to_csv(os.path.join(path, '02_Data','Prepared', 'df17.csv'))"
   ]
  },
  {
   "cell_type": "code",
   "execution_count": 134,
   "id": "f2e60ee1",
   "metadata": {},
   "outputs": [],
   "source": [
    "df16.to_csv(os.path.join(path, '02_Data','Prepared', 'df16.csv'))"
   ]
  },
  {
   "cell_type": "code",
   "execution_count": 135,
   "id": "de64bbb4",
   "metadata": {},
   "outputs": [],
   "source": [
    "df15.to_csv(os.path.join(path, '02_Data','Prepared', 'df15.csv'))"
   ]
  },
  {
   "cell_type": "code",
   "execution_count": 136,
   "id": "7a5609c2",
   "metadata": {},
   "outputs": [],
   "source": [
    "dfcountry_unique.to_csv(os.path.join(path, '02_Data','Prepared', 'df_country_unique.csv'))"
   ]
  },
  {
   "cell_type": "code",
   "execution_count": null,
   "id": "12aaadbc",
   "metadata": {},
   "outputs": [],
   "source": []
  }
 ],
 "metadata": {
  "kernelspec": {
   "display_name": "Python 3 (ipykernel)",
   "language": "python",
   "name": "python3"
  },
  "language_info": {
   "codemirror_mode": {
    "name": "ipython",
    "version": 3
   },
   "file_extension": ".py",
   "mimetype": "text/x-python",
   "name": "python",
   "nbconvert_exporter": "python",
   "pygments_lexer": "ipython3",
   "version": "3.9.13"
  }
 },
 "nbformat": 4,
 "nbformat_minor": 5
}
